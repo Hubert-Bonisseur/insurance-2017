{
 "cells": [
  {
   "cell_type": "code",
   "execution_count": 1,
   "id": "a0d6fa87",
   "metadata": {},
   "outputs": [],
   "source": [
    "import pandas as pd\n",
    "import numpy as np\n",
    "import seaborn as sns\n",
    "import matplotlib.pyplot as plt\n",
    "pd.set_option('display.max_columns', 500)"
   ]
  },
  {
   "cell_type": "code",
   "execution_count": 2,
   "id": "aa02d6b1",
   "metadata": {},
   "outputs": [],
   "source": [
    "from sklearn.linear_model import LogisticRegression\n",
    "from sklearn.svm import SVC, LinearSVC\n",
    "from sklearn.ensemble import RandomForestClassifier\n",
    "from sklearn.neighbors import KNeighborsClassifier\n",
    "from sklearn.naive_bayes import GaussianNB\n",
    "from sklearn.linear_model import Perceptron\n",
    "from sklearn.linear_model import SGDClassifier\n",
    "from sklearn.tree import DecisionTreeClassifier\n",
    "from sklearn.model_selection import cross_val_score\n",
    "from sklearn.model_selection import GridSearchCV\n",
    "from sklearn.preprocessing import Normalizer\n",
    "from sklearn.metrics import confusion_matrix\n",
    "from sklearn.metrics import ConfusionMatrixDisplay"
   ]
  },
  {
   "cell_type": "code",
   "execution_count": 3,
   "id": "8949918d",
   "metadata": {},
   "outputs": [],
   "source": [
    "train_df = pd.read_csv(\"train_auto.csv\")\n",
    "test_df = pd.read_csv(\"test_auto.csv\")"
   ]
  },
  {
   "cell_type": "markdown",
   "id": "be43a86f",
   "metadata": {},
   "source": [
    "# Data exploration"
   ]
  },
  {
   "cell_type": "code",
   "execution_count": 4,
   "id": "0dc8da45",
   "metadata": {
    "scrolled": true
   },
   "outputs": [
    {
     "name": "stdout",
     "output_type": "stream",
     "text": [
      "<class 'pandas.core.frame.DataFrame'>\n",
      "RangeIndex: 8161 entries, 0 to 8160\n",
      "Data columns (total 26 columns):\n",
      " #   Column       Non-Null Count  Dtype  \n",
      "---  ------       --------------  -----  \n",
      " 0   INDEX        8161 non-null   int64  \n",
      " 1   TARGET_FLAG  8161 non-null   int64  \n",
      " 2   TARGET_AMT   8161 non-null   float64\n",
      " 3   KIDSDRIV     8161 non-null   int64  \n",
      " 4   AGE          8155 non-null   float64\n",
      " 5   HOMEKIDS     8161 non-null   int64  \n",
      " 6   YOJ          7707 non-null   float64\n",
      " 7   INCOME       7716 non-null   object \n",
      " 8   PARENT1      8161 non-null   object \n",
      " 9   HOME_VAL     7697 non-null   object \n",
      " 10  MSTATUS      8161 non-null   object \n",
      " 11  SEX          8161 non-null   object \n",
      " 12  EDUCATION    8161 non-null   object \n",
      " 13  JOB          7635 non-null   object \n",
      " 14  TRAVTIME     8161 non-null   int64  \n",
      " 15  CAR_USE      8161 non-null   object \n",
      " 16  BLUEBOOK     8161 non-null   object \n",
      " 17  TIF          8161 non-null   int64  \n",
      " 18  CAR_TYPE     8161 non-null   object \n",
      " 19  RED_CAR      8161 non-null   object \n",
      " 20  OLDCLAIM     8161 non-null   object \n",
      " 21  CLM_FREQ     8161 non-null   int64  \n",
      " 22  REVOKED      8161 non-null   object \n",
      " 23  MVR_PTS      8161 non-null   int64  \n",
      " 24  CAR_AGE      7651 non-null   float64\n",
      " 25  URBANICITY   8161 non-null   object \n",
      "dtypes: float64(4), int64(8), object(14)\n",
      "memory usage: 1.6+ MB\n",
      "None\n"
     ]
    }
   ],
   "source": [
    "print(train_df.info())"
   ]
  },
  {
   "cell_type": "markdown",
   "id": "dd89f2a7",
   "metadata": {},
   "source": [
    "Let's remove the features that are unsignificant to the problem : INDEX, TARGET_AMT"
   ]
  },
  {
   "cell_type": "code",
   "execution_count": 5,
   "id": "6346bc6d",
   "metadata": {},
   "outputs": [],
   "source": [
    "train_df.drop(['INDEX','TARGET_AMT'], axis = 1, inplace = True)\n",
    "test_df.drop(['INDEX','TARGET_AMT'], axis = 1, inplace = True)\n",
    "pass"
   ]
  },
  {
   "cell_type": "code",
   "execution_count": 6,
   "id": "fae1f0a2",
   "metadata": {
    "scrolled": false
   },
   "outputs": [
    {
     "data": {
      "text/html": [
       "<div>\n",
       "<style scoped>\n",
       "    .dataframe tbody tr th:only-of-type {\n",
       "        vertical-align: middle;\n",
       "    }\n",
       "\n",
       "    .dataframe tbody tr th {\n",
       "        vertical-align: top;\n",
       "    }\n",
       "\n",
       "    .dataframe thead th {\n",
       "        text-align: right;\n",
       "    }\n",
       "</style>\n",
       "<table border=\"1\" class=\"dataframe\">\n",
       "  <thead>\n",
       "    <tr style=\"text-align: right;\">\n",
       "      <th></th>\n",
       "      <th>TARGET_FLAG</th>\n",
       "      <th>KIDSDRIV</th>\n",
       "      <th>AGE</th>\n",
       "      <th>HOMEKIDS</th>\n",
       "      <th>YOJ</th>\n",
       "      <th>INCOME</th>\n",
       "      <th>PARENT1</th>\n",
       "      <th>HOME_VAL</th>\n",
       "      <th>MSTATUS</th>\n",
       "      <th>SEX</th>\n",
       "      <th>EDUCATION</th>\n",
       "      <th>JOB</th>\n",
       "      <th>TRAVTIME</th>\n",
       "      <th>CAR_USE</th>\n",
       "      <th>BLUEBOOK</th>\n",
       "      <th>TIF</th>\n",
       "      <th>CAR_TYPE</th>\n",
       "      <th>RED_CAR</th>\n",
       "      <th>OLDCLAIM</th>\n",
       "      <th>CLM_FREQ</th>\n",
       "      <th>REVOKED</th>\n",
       "      <th>MVR_PTS</th>\n",
       "      <th>CAR_AGE</th>\n",
       "      <th>URBANICITY</th>\n",
       "    </tr>\n",
       "  </thead>\n",
       "  <tbody>\n",
       "    <tr>\n",
       "      <th>0</th>\n",
       "      <td>0</td>\n",
       "      <td>0</td>\n",
       "      <td>60.0</td>\n",
       "      <td>0</td>\n",
       "      <td>11.0</td>\n",
       "      <td>$67,349</td>\n",
       "      <td>No</td>\n",
       "      <td>$0</td>\n",
       "      <td>z_No</td>\n",
       "      <td>M</td>\n",
       "      <td>PhD</td>\n",
       "      <td>Professional</td>\n",
       "      <td>14</td>\n",
       "      <td>Private</td>\n",
       "      <td>$14,230</td>\n",
       "      <td>11</td>\n",
       "      <td>Minivan</td>\n",
       "      <td>yes</td>\n",
       "      <td>$4,461</td>\n",
       "      <td>2</td>\n",
       "      <td>No</td>\n",
       "      <td>3</td>\n",
       "      <td>18.0</td>\n",
       "      <td>Highly Urban/ Urban</td>\n",
       "    </tr>\n",
       "    <tr>\n",
       "      <th>1</th>\n",
       "      <td>0</td>\n",
       "      <td>0</td>\n",
       "      <td>43.0</td>\n",
       "      <td>0</td>\n",
       "      <td>11.0</td>\n",
       "      <td>$91,449</td>\n",
       "      <td>No</td>\n",
       "      <td>$257,252</td>\n",
       "      <td>z_No</td>\n",
       "      <td>M</td>\n",
       "      <td>z_High School</td>\n",
       "      <td>z_Blue Collar</td>\n",
       "      <td>22</td>\n",
       "      <td>Commercial</td>\n",
       "      <td>$14,940</td>\n",
       "      <td>1</td>\n",
       "      <td>Minivan</td>\n",
       "      <td>yes</td>\n",
       "      <td>$0</td>\n",
       "      <td>0</td>\n",
       "      <td>No</td>\n",
       "      <td>0</td>\n",
       "      <td>1.0</td>\n",
       "      <td>Highly Urban/ Urban</td>\n",
       "    </tr>\n",
       "    <tr>\n",
       "      <th>2</th>\n",
       "      <td>0</td>\n",
       "      <td>0</td>\n",
       "      <td>35.0</td>\n",
       "      <td>1</td>\n",
       "      <td>10.0</td>\n",
       "      <td>$16,039</td>\n",
       "      <td>No</td>\n",
       "      <td>$124,191</td>\n",
       "      <td>Yes</td>\n",
       "      <td>z_F</td>\n",
       "      <td>z_High School</td>\n",
       "      <td>Clerical</td>\n",
       "      <td>5</td>\n",
       "      <td>Private</td>\n",
       "      <td>$4,010</td>\n",
       "      <td>4</td>\n",
       "      <td>z_SUV</td>\n",
       "      <td>no</td>\n",
       "      <td>$38,690</td>\n",
       "      <td>2</td>\n",
       "      <td>No</td>\n",
       "      <td>3</td>\n",
       "      <td>10.0</td>\n",
       "      <td>Highly Urban/ Urban</td>\n",
       "    </tr>\n",
       "    <tr>\n",
       "      <th>3</th>\n",
       "      <td>0</td>\n",
       "      <td>0</td>\n",
       "      <td>51.0</td>\n",
       "      <td>0</td>\n",
       "      <td>14.0</td>\n",
       "      <td>NaN</td>\n",
       "      <td>No</td>\n",
       "      <td>$306,251</td>\n",
       "      <td>Yes</td>\n",
       "      <td>M</td>\n",
       "      <td>&lt;High School</td>\n",
       "      <td>z_Blue Collar</td>\n",
       "      <td>32</td>\n",
       "      <td>Private</td>\n",
       "      <td>$15,440</td>\n",
       "      <td>7</td>\n",
       "      <td>Minivan</td>\n",
       "      <td>yes</td>\n",
       "      <td>$0</td>\n",
       "      <td>0</td>\n",
       "      <td>No</td>\n",
       "      <td>0</td>\n",
       "      <td>6.0</td>\n",
       "      <td>Highly Urban/ Urban</td>\n",
       "    </tr>\n",
       "    <tr>\n",
       "      <th>4</th>\n",
       "      <td>0</td>\n",
       "      <td>0</td>\n",
       "      <td>50.0</td>\n",
       "      <td>0</td>\n",
       "      <td>NaN</td>\n",
       "      <td>$114,986</td>\n",
       "      <td>No</td>\n",
       "      <td>$243,925</td>\n",
       "      <td>Yes</td>\n",
       "      <td>z_F</td>\n",
       "      <td>PhD</td>\n",
       "      <td>Doctor</td>\n",
       "      <td>36</td>\n",
       "      <td>Private</td>\n",
       "      <td>$18,000</td>\n",
       "      <td>1</td>\n",
       "      <td>z_SUV</td>\n",
       "      <td>no</td>\n",
       "      <td>$19,217</td>\n",
       "      <td>2</td>\n",
       "      <td>Yes</td>\n",
       "      <td>3</td>\n",
       "      <td>17.0</td>\n",
       "      <td>Highly Urban/ Urban</td>\n",
       "    </tr>\n",
       "  </tbody>\n",
       "</table>\n",
       "</div>"
      ],
      "text/plain": [
       "   TARGET_FLAG  KIDSDRIV   AGE  HOMEKIDS   YOJ    INCOME PARENT1  HOME_VAL  \\\n",
       "0            0         0  60.0         0  11.0   $67,349      No        $0   \n",
       "1            0         0  43.0         0  11.0   $91,449      No  $257,252   \n",
       "2            0         0  35.0         1  10.0   $16,039      No  $124,191   \n",
       "3            0         0  51.0         0  14.0       NaN      No  $306,251   \n",
       "4            0         0  50.0         0   NaN  $114,986      No  $243,925   \n",
       "\n",
       "  MSTATUS  SEX      EDUCATION            JOB  TRAVTIME     CAR_USE BLUEBOOK  \\\n",
       "0    z_No    M            PhD   Professional        14     Private  $14,230   \n",
       "1    z_No    M  z_High School  z_Blue Collar        22  Commercial  $14,940   \n",
       "2     Yes  z_F  z_High School       Clerical         5     Private   $4,010   \n",
       "3     Yes    M   <High School  z_Blue Collar        32     Private  $15,440   \n",
       "4     Yes  z_F            PhD         Doctor        36     Private  $18,000   \n",
       "\n",
       "   TIF CAR_TYPE RED_CAR OLDCLAIM  CLM_FREQ REVOKED  MVR_PTS  CAR_AGE  \\\n",
       "0   11  Minivan     yes   $4,461         2      No        3     18.0   \n",
       "1    1  Minivan     yes       $0         0      No        0      1.0   \n",
       "2    4    z_SUV      no  $38,690         2      No        3     10.0   \n",
       "3    7  Minivan     yes       $0         0      No        0      6.0   \n",
       "4    1    z_SUV      no  $19,217         2     Yes        3     17.0   \n",
       "\n",
       "            URBANICITY  \n",
       "0  Highly Urban/ Urban  \n",
       "1  Highly Urban/ Urban  \n",
       "2  Highly Urban/ Urban  \n",
       "3  Highly Urban/ Urban  \n",
       "4  Highly Urban/ Urban  "
      ]
     },
     "execution_count": 6,
     "metadata": {},
     "output_type": "execute_result"
    }
   ],
   "source": [
    "train_df.head()"
   ]
  },
  {
   "cell_type": "code",
   "execution_count": 7,
   "id": "3b4681a7",
   "metadata": {},
   "outputs": [
    {
     "data": {
      "text/html": [
       "<div>\n",
       "<style scoped>\n",
       "    .dataframe tbody tr th:only-of-type {\n",
       "        vertical-align: middle;\n",
       "    }\n",
       "\n",
       "    .dataframe tbody tr th {\n",
       "        vertical-align: top;\n",
       "    }\n",
       "\n",
       "    .dataframe thead th {\n",
       "        text-align: right;\n",
       "    }\n",
       "</style>\n",
       "<table border=\"1\" class=\"dataframe\">\n",
       "  <thead>\n",
       "    <tr style=\"text-align: right;\">\n",
       "      <th></th>\n",
       "      <th>TARGET_FLAG</th>\n",
       "      <th>KIDSDRIV</th>\n",
       "      <th>AGE</th>\n",
       "      <th>HOMEKIDS</th>\n",
       "      <th>YOJ</th>\n",
       "      <th>INCOME</th>\n",
       "      <th>PARENT1</th>\n",
       "      <th>HOME_VAL</th>\n",
       "      <th>MSTATUS</th>\n",
       "      <th>SEX</th>\n",
       "      <th>EDUCATION</th>\n",
       "      <th>JOB</th>\n",
       "      <th>TRAVTIME</th>\n",
       "      <th>CAR_USE</th>\n",
       "      <th>BLUEBOOK</th>\n",
       "      <th>TIF</th>\n",
       "      <th>CAR_TYPE</th>\n",
       "      <th>RED_CAR</th>\n",
       "      <th>OLDCLAIM</th>\n",
       "      <th>CLM_FREQ</th>\n",
       "      <th>REVOKED</th>\n",
       "      <th>MVR_PTS</th>\n",
       "      <th>CAR_AGE</th>\n",
       "      <th>URBANICITY</th>\n",
       "    </tr>\n",
       "  </thead>\n",
       "  <tbody>\n",
       "    <tr>\n",
       "      <th>8156</th>\n",
       "      <td>0</td>\n",
       "      <td>0</td>\n",
       "      <td>35.0</td>\n",
       "      <td>0</td>\n",
       "      <td>11.0</td>\n",
       "      <td>$43,112</td>\n",
       "      <td>No</td>\n",
       "      <td>$0</td>\n",
       "      <td>z_No</td>\n",
       "      <td>M</td>\n",
       "      <td>z_High School</td>\n",
       "      <td>z_Blue Collar</td>\n",
       "      <td>51</td>\n",
       "      <td>Commercial</td>\n",
       "      <td>$27,330</td>\n",
       "      <td>10</td>\n",
       "      <td>Panel Truck</td>\n",
       "      <td>yes</td>\n",
       "      <td>$0</td>\n",
       "      <td>0</td>\n",
       "      <td>No</td>\n",
       "      <td>0</td>\n",
       "      <td>8.0</td>\n",
       "      <td>z_Highly Rural/ Rural</td>\n",
       "    </tr>\n",
       "    <tr>\n",
       "      <th>8157</th>\n",
       "      <td>0</td>\n",
       "      <td>1</td>\n",
       "      <td>45.0</td>\n",
       "      <td>2</td>\n",
       "      <td>9.0</td>\n",
       "      <td>$164,669</td>\n",
       "      <td>No</td>\n",
       "      <td>$386,273</td>\n",
       "      <td>Yes</td>\n",
       "      <td>M</td>\n",
       "      <td>PhD</td>\n",
       "      <td>Manager</td>\n",
       "      <td>21</td>\n",
       "      <td>Private</td>\n",
       "      <td>$13,270</td>\n",
       "      <td>15</td>\n",
       "      <td>Minivan</td>\n",
       "      <td>no</td>\n",
       "      <td>$0</td>\n",
       "      <td>0</td>\n",
       "      <td>No</td>\n",
       "      <td>2</td>\n",
       "      <td>17.0</td>\n",
       "      <td>Highly Urban/ Urban</td>\n",
       "    </tr>\n",
       "    <tr>\n",
       "      <th>8158</th>\n",
       "      <td>0</td>\n",
       "      <td>0</td>\n",
       "      <td>46.0</td>\n",
       "      <td>0</td>\n",
       "      <td>9.0</td>\n",
       "      <td>$107,204</td>\n",
       "      <td>No</td>\n",
       "      <td>$332,591</td>\n",
       "      <td>Yes</td>\n",
       "      <td>M</td>\n",
       "      <td>Masters</td>\n",
       "      <td>NaN</td>\n",
       "      <td>36</td>\n",
       "      <td>Commercial</td>\n",
       "      <td>$24,490</td>\n",
       "      <td>6</td>\n",
       "      <td>Panel Truck</td>\n",
       "      <td>no</td>\n",
       "      <td>$0</td>\n",
       "      <td>0</td>\n",
       "      <td>No</td>\n",
       "      <td>0</td>\n",
       "      <td>1.0</td>\n",
       "      <td>Highly Urban/ Urban</td>\n",
       "    </tr>\n",
       "    <tr>\n",
       "      <th>8159</th>\n",
       "      <td>0</td>\n",
       "      <td>0</td>\n",
       "      <td>50.0</td>\n",
       "      <td>0</td>\n",
       "      <td>7.0</td>\n",
       "      <td>$43,445</td>\n",
       "      <td>No</td>\n",
       "      <td>$149,248</td>\n",
       "      <td>Yes</td>\n",
       "      <td>z_F</td>\n",
       "      <td>Bachelors</td>\n",
       "      <td>Home Maker</td>\n",
       "      <td>36</td>\n",
       "      <td>Private</td>\n",
       "      <td>$22,550</td>\n",
       "      <td>6</td>\n",
       "      <td>Minivan</td>\n",
       "      <td>no</td>\n",
       "      <td>$0</td>\n",
       "      <td>0</td>\n",
       "      <td>No</td>\n",
       "      <td>0</td>\n",
       "      <td>11.0</td>\n",
       "      <td>Highly Urban/ Urban</td>\n",
       "    </tr>\n",
       "    <tr>\n",
       "      <th>8160</th>\n",
       "      <td>0</td>\n",
       "      <td>0</td>\n",
       "      <td>52.0</td>\n",
       "      <td>0</td>\n",
       "      <td>11.0</td>\n",
       "      <td>$53,235</td>\n",
       "      <td>No</td>\n",
       "      <td>$197,017</td>\n",
       "      <td>Yes</td>\n",
       "      <td>z_F</td>\n",
       "      <td>z_High School</td>\n",
       "      <td>Clerical</td>\n",
       "      <td>64</td>\n",
       "      <td>Private</td>\n",
       "      <td>$19,400</td>\n",
       "      <td>6</td>\n",
       "      <td>Minivan</td>\n",
       "      <td>no</td>\n",
       "      <td>$0</td>\n",
       "      <td>0</td>\n",
       "      <td>No</td>\n",
       "      <td>0</td>\n",
       "      <td>9.0</td>\n",
       "      <td>z_Highly Rural/ Rural</td>\n",
       "    </tr>\n",
       "  </tbody>\n",
       "</table>\n",
       "</div>"
      ],
      "text/plain": [
       "      TARGET_FLAG  KIDSDRIV   AGE  HOMEKIDS   YOJ    INCOME PARENT1  HOME_VAL  \\\n",
       "8156            0         0  35.0         0  11.0   $43,112      No        $0   \n",
       "8157            0         1  45.0         2   9.0  $164,669      No  $386,273   \n",
       "8158            0         0  46.0         0   9.0  $107,204      No  $332,591   \n",
       "8159            0         0  50.0         0   7.0   $43,445      No  $149,248   \n",
       "8160            0         0  52.0         0  11.0   $53,235      No  $197,017   \n",
       "\n",
       "     MSTATUS  SEX      EDUCATION            JOB  TRAVTIME     CAR_USE  \\\n",
       "8156    z_No    M  z_High School  z_Blue Collar        51  Commercial   \n",
       "8157     Yes    M            PhD        Manager        21     Private   \n",
       "8158     Yes    M        Masters            NaN        36  Commercial   \n",
       "8159     Yes  z_F      Bachelors     Home Maker        36     Private   \n",
       "8160     Yes  z_F  z_High School       Clerical        64     Private   \n",
       "\n",
       "     BLUEBOOK  TIF     CAR_TYPE RED_CAR OLDCLAIM  CLM_FREQ REVOKED  MVR_PTS  \\\n",
       "8156  $27,330   10  Panel Truck     yes       $0         0      No        0   \n",
       "8157  $13,270   15      Minivan      no       $0         0      No        2   \n",
       "8158  $24,490    6  Panel Truck      no       $0         0      No        0   \n",
       "8159  $22,550    6      Minivan      no       $0         0      No        0   \n",
       "8160  $19,400    6      Minivan      no       $0         0      No        0   \n",
       "\n",
       "      CAR_AGE             URBANICITY  \n",
       "8156      8.0  z_Highly Rural/ Rural  \n",
       "8157     17.0    Highly Urban/ Urban  \n",
       "8158      1.0    Highly Urban/ Urban  \n",
       "8159     11.0    Highly Urban/ Urban  \n",
       "8160      9.0  z_Highly Rural/ Rural  "
      ]
     },
     "execution_count": 7,
     "metadata": {},
     "output_type": "execute_result"
    }
   ],
   "source": [
    "train_df.tail()"
   ]
  },
  {
   "cell_type": "markdown",
   "id": "ca3df1a0",
   "metadata": {},
   "source": [
    "We have a mix of numerical and categorical features.\n",
    "\n",
    "None of the features is predominantly null, therefore we don't discard any from the start\n",
    "\n",
    "We notice that the features ['INCOME','HOME_VAL','BLUEBOOK','OLDCLAIM'] are object type because of the dollar sign. \n",
    "We can treat these features to make them numerical.\n",
    "\n",
    "We notice some typos in the EDUCATION field"
   ]
  },
  {
   "cell_type": "code",
   "execution_count": 8,
   "id": "040aae2e",
   "metadata": {},
   "outputs": [],
   "source": [
    "def dollar_to_number(dollar_col):\n",
    "    for i,dollar in enumerate(dollar_col):\n",
    "        if pd.isna(dollar):\n",
    "            continue\n",
    "        dollar_col.iloc[i] = int(dollar[1:].replace(',',''))\n",
    "    return dollar_col\n",
    "train_df[['INCOME','HOME_VAL','BLUEBOOK','OLDCLAIM']] = train_df[['INCOME','HOME_VAL','BLUEBOOK','OLDCLAIM']].apply(dollar_to_number).astype('float64')\n",
    "test_df[['INCOME','HOME_VAL','BLUEBOOK','OLDCLAIM']] = test_df[['INCOME','HOME_VAL','BLUEBOOK','OLDCLAIM']].apply(dollar_to_number).astype('float64')"
   ]
  },
  {
   "cell_type": "code",
   "execution_count": 9,
   "id": "36b4fbc0",
   "metadata": {
    "scrolled": true
   },
   "outputs": [
    {
     "data": {
      "text/plain": [
       "array(['PhD', 'z_High School', '<High School', 'Bachelors', 'Masters'],\n",
       "      dtype=object)"
      ]
     },
     "execution_count": 9,
     "metadata": {},
     "output_type": "execute_result"
    }
   ],
   "source": [
    "train_df.EDUCATION.unique()"
   ]
  },
  {
   "cell_type": "markdown",
   "id": "ab850290",
   "metadata": {},
   "source": [
    "There are typos in the education field, we fix them"
   ]
  },
  {
   "cell_type": "code",
   "execution_count": 10,
   "id": "250ca675",
   "metadata": {},
   "outputs": [],
   "source": [
    "train_df.EDUCATION = train_df.EDUCATION.replace(to_replace = {'z_High School' : 'High School', '<High School': 'High School'})\n",
    "test_df.EDUCATION = train_df.EDUCATION.replace(to_replace = {'z_High School' : 'High School', '<High School': 'High School'})"
   ]
  },
  {
   "cell_type": "markdown",
   "id": "a3c8dc9e",
   "metadata": {},
   "source": [
    "### Repartition and correlation with the target of the numerical variables"
   ]
  },
  {
   "cell_type": "code",
   "execution_count": 11,
   "id": "456212cc",
   "metadata": {
    "scrolled": false
   },
   "outputs": [
    {
     "data": {
      "text/html": [
       "<div>\n",
       "<style scoped>\n",
       "    .dataframe tbody tr th:only-of-type {\n",
       "        vertical-align: middle;\n",
       "    }\n",
       "\n",
       "    .dataframe tbody tr th {\n",
       "        vertical-align: top;\n",
       "    }\n",
       "\n",
       "    .dataframe thead th {\n",
       "        text-align: right;\n",
       "    }\n",
       "</style>\n",
       "<table border=\"1\" class=\"dataframe\">\n",
       "  <thead>\n",
       "    <tr style=\"text-align: right;\">\n",
       "      <th></th>\n",
       "      <th>TARGET_FLAG</th>\n",
       "      <th>KIDSDRIV</th>\n",
       "      <th>AGE</th>\n",
       "      <th>HOMEKIDS</th>\n",
       "      <th>YOJ</th>\n",
       "      <th>INCOME</th>\n",
       "      <th>HOME_VAL</th>\n",
       "      <th>TRAVTIME</th>\n",
       "      <th>BLUEBOOK</th>\n",
       "      <th>TIF</th>\n",
       "      <th>OLDCLAIM</th>\n",
       "      <th>CLM_FREQ</th>\n",
       "      <th>MVR_PTS</th>\n",
       "      <th>CAR_AGE</th>\n",
       "    </tr>\n",
       "  </thead>\n",
       "  <tbody>\n",
       "    <tr>\n",
       "      <th>count</th>\n",
       "      <td>8161.000000</td>\n",
       "      <td>8161.000000</td>\n",
       "      <td>8155.000000</td>\n",
       "      <td>8161.000000</td>\n",
       "      <td>7707.000000</td>\n",
       "      <td>7716.000000</td>\n",
       "      <td>7697.000000</td>\n",
       "      <td>8161.000000</td>\n",
       "      <td>8161.000000</td>\n",
       "      <td>8161.000000</td>\n",
       "      <td>8161.000000</td>\n",
       "      <td>8161.000000</td>\n",
       "      <td>8161.000000</td>\n",
       "      <td>7651.000000</td>\n",
       "    </tr>\n",
       "    <tr>\n",
       "      <th>mean</th>\n",
       "      <td>0.263816</td>\n",
       "      <td>0.171057</td>\n",
       "      <td>44.790313</td>\n",
       "      <td>0.721235</td>\n",
       "      <td>10.499286</td>\n",
       "      <td>61898.094609</td>\n",
       "      <td>154867.289723</td>\n",
       "      <td>33.485725</td>\n",
       "      <td>15709.899522</td>\n",
       "      <td>5.351305</td>\n",
       "      <td>4037.076216</td>\n",
       "      <td>0.798554</td>\n",
       "      <td>1.695503</td>\n",
       "      <td>8.328323</td>\n",
       "    </tr>\n",
       "    <tr>\n",
       "      <th>std</th>\n",
       "      <td>0.440728</td>\n",
       "      <td>0.511534</td>\n",
       "      <td>8.627589</td>\n",
       "      <td>1.116323</td>\n",
       "      <td>4.092474</td>\n",
       "      <td>47572.682808</td>\n",
       "      <td>129123.774574</td>\n",
       "      <td>15.908333</td>\n",
       "      <td>8419.734075</td>\n",
       "      <td>4.146635</td>\n",
       "      <td>8777.139104</td>\n",
       "      <td>1.158453</td>\n",
       "      <td>2.147112</td>\n",
       "      <td>5.700742</td>\n",
       "    </tr>\n",
       "    <tr>\n",
       "      <th>min</th>\n",
       "      <td>0.000000</td>\n",
       "      <td>0.000000</td>\n",
       "      <td>16.000000</td>\n",
       "      <td>0.000000</td>\n",
       "      <td>0.000000</td>\n",
       "      <td>0.000000</td>\n",
       "      <td>0.000000</td>\n",
       "      <td>5.000000</td>\n",
       "      <td>1500.000000</td>\n",
       "      <td>1.000000</td>\n",
       "      <td>0.000000</td>\n",
       "      <td>0.000000</td>\n",
       "      <td>0.000000</td>\n",
       "      <td>-3.000000</td>\n",
       "    </tr>\n",
       "    <tr>\n",
       "      <th>25%</th>\n",
       "      <td>0.000000</td>\n",
       "      <td>0.000000</td>\n",
       "      <td>39.000000</td>\n",
       "      <td>0.000000</td>\n",
       "      <td>9.000000</td>\n",
       "      <td>28097.000000</td>\n",
       "      <td>0.000000</td>\n",
       "      <td>22.000000</td>\n",
       "      <td>9280.000000</td>\n",
       "      <td>1.000000</td>\n",
       "      <td>0.000000</td>\n",
       "      <td>0.000000</td>\n",
       "      <td>0.000000</td>\n",
       "      <td>1.000000</td>\n",
       "    </tr>\n",
       "    <tr>\n",
       "      <th>50%</th>\n",
       "      <td>0.000000</td>\n",
       "      <td>0.000000</td>\n",
       "      <td>45.000000</td>\n",
       "      <td>0.000000</td>\n",
       "      <td>11.000000</td>\n",
       "      <td>54028.000000</td>\n",
       "      <td>161160.000000</td>\n",
       "      <td>33.000000</td>\n",
       "      <td>14440.000000</td>\n",
       "      <td>4.000000</td>\n",
       "      <td>0.000000</td>\n",
       "      <td>0.000000</td>\n",
       "      <td>1.000000</td>\n",
       "      <td>8.000000</td>\n",
       "    </tr>\n",
       "    <tr>\n",
       "      <th>75%</th>\n",
       "      <td>1.000000</td>\n",
       "      <td>0.000000</td>\n",
       "      <td>51.000000</td>\n",
       "      <td>1.000000</td>\n",
       "      <td>13.000000</td>\n",
       "      <td>85986.000000</td>\n",
       "      <td>238724.000000</td>\n",
       "      <td>44.000000</td>\n",
       "      <td>20850.000000</td>\n",
       "      <td>7.000000</td>\n",
       "      <td>4636.000000</td>\n",
       "      <td>2.000000</td>\n",
       "      <td>3.000000</td>\n",
       "      <td>12.000000</td>\n",
       "    </tr>\n",
       "    <tr>\n",
       "      <th>max</th>\n",
       "      <td>1.000000</td>\n",
       "      <td>4.000000</td>\n",
       "      <td>81.000000</td>\n",
       "      <td>5.000000</td>\n",
       "      <td>23.000000</td>\n",
       "      <td>367030.000000</td>\n",
       "      <td>885282.000000</td>\n",
       "      <td>142.000000</td>\n",
       "      <td>69740.000000</td>\n",
       "      <td>25.000000</td>\n",
       "      <td>57037.000000</td>\n",
       "      <td>5.000000</td>\n",
       "      <td>13.000000</td>\n",
       "      <td>28.000000</td>\n",
       "    </tr>\n",
       "  </tbody>\n",
       "</table>\n",
       "</div>"
      ],
      "text/plain": [
       "       TARGET_FLAG     KIDSDRIV          AGE     HOMEKIDS          YOJ  \\\n",
       "count  8161.000000  8161.000000  8155.000000  8161.000000  7707.000000   \n",
       "mean      0.263816     0.171057    44.790313     0.721235    10.499286   \n",
       "std       0.440728     0.511534     8.627589     1.116323     4.092474   \n",
       "min       0.000000     0.000000    16.000000     0.000000     0.000000   \n",
       "25%       0.000000     0.000000    39.000000     0.000000     9.000000   \n",
       "50%       0.000000     0.000000    45.000000     0.000000    11.000000   \n",
       "75%       1.000000     0.000000    51.000000     1.000000    13.000000   \n",
       "max       1.000000     4.000000    81.000000     5.000000    23.000000   \n",
       "\n",
       "              INCOME       HOME_VAL     TRAVTIME      BLUEBOOK          TIF  \\\n",
       "count    7716.000000    7697.000000  8161.000000   8161.000000  8161.000000   \n",
       "mean    61898.094609  154867.289723    33.485725  15709.899522     5.351305   \n",
       "std     47572.682808  129123.774574    15.908333   8419.734075     4.146635   \n",
       "min         0.000000       0.000000     5.000000   1500.000000     1.000000   \n",
       "25%     28097.000000       0.000000    22.000000   9280.000000     1.000000   \n",
       "50%     54028.000000  161160.000000    33.000000  14440.000000     4.000000   \n",
       "75%     85986.000000  238724.000000    44.000000  20850.000000     7.000000   \n",
       "max    367030.000000  885282.000000   142.000000  69740.000000    25.000000   \n",
       "\n",
       "           OLDCLAIM     CLM_FREQ      MVR_PTS      CAR_AGE  \n",
       "count   8161.000000  8161.000000  8161.000000  7651.000000  \n",
       "mean    4037.076216     0.798554     1.695503     8.328323  \n",
       "std     8777.139104     1.158453     2.147112     5.700742  \n",
       "min        0.000000     0.000000     0.000000    -3.000000  \n",
       "25%        0.000000     0.000000     0.000000     1.000000  \n",
       "50%        0.000000     0.000000     1.000000     8.000000  \n",
       "75%     4636.000000     2.000000     3.000000    12.000000  \n",
       "max    57037.000000     5.000000    13.000000    28.000000  "
      ]
     },
     "execution_count": 11,
     "metadata": {},
     "output_type": "execute_result"
    }
   ],
   "source": [
    "train_df.describe()"
   ]
  },
  {
   "cell_type": "markdown",
   "id": "b6af246b",
   "metadata": {},
   "source": [
    "The OLDCLAIM,CLM_FREQ and KIDSDRIV and HOMEKIDS fields are predominantly 0, let's check if we can remove them.\n",
    "All the features related to money ie 'INCOME','BLUEBOOK' and 'HOME_VAL' are very spread. This kind of information ususally follows a power-law. It's worth checking if applying the log could be worth it.\n",
    "\n",
    "We expect HOME_VAL and INCOME to be very correlated"
   ]
  },
  {
   "cell_type": "markdown",
   "id": "d8419632",
   "metadata": {},
   "source": [
    "#### HOMEKIDS"
   ]
  },
  {
   "cell_type": "code",
   "execution_count": 12,
   "id": "9d7be110",
   "metadata": {
    "scrolled": false
   },
   "outputs": [
    {
     "data": {
      "text/plain": [
       "<AxesSubplot:xlabel='HOMEKIDS', ylabel='TARGET_FLAG'>"
      ]
     },
     "execution_count": 12,
     "metadata": {},
     "output_type": "execute_result"
    },
    {
     "data": {
      "image/png": "[encoded data removed]",
      "text/plain": [
       "<Figure size 432x288 with 1 Axes>"
      ]
     },
     "metadata": {
      "needs_background": "light"
     },
     "output_type": "display_data"
    }
   ],
   "source": [
    "sns.barplot(data = train_df, x='HOMEKIDS', y='TARGET_FLAG')"
   ]
  },
  {
   "cell_type": "markdown",
   "id": "6af4c3b3",
   "metadata": {},
   "source": [
    "We notice that the target is significantly lower when the person has no kids. There is no clear correlation past that. We replace this variable by the binary variable has_kids"
   ]
  },
  {
   "cell_type": "markdown",
   "id": "aa0ee8b8",
   "metadata": {},
   "source": [
    "#### KIDSDRIV"
   ]
  },
  {
   "cell_type": "code",
   "execution_count": 13,
   "id": "c6697b3d",
   "metadata": {},
   "outputs": [
    {
     "data": {
      "text/plain": [
       "<AxesSubplot:xlabel='KIDSDRIV', ylabel='TARGET_FLAG'>"
      ]
     },
     "execution_count": 13,
     "metadata": {},
     "output_type": "execute_result"
    },
    {
     "data": {
      "image/png": "[encoded data removed]",
      "text/plain": [
       "<Figure size 432x288 with 1 Axes>"
      ]
     },
     "metadata": {
      "needs_background": "light"
     },
     "output_type": "display_data"
    }
   ],
   "source": [
    "sns.barplot(data = train_df, x='KIDSDRIV', y='TARGET_FLAG')"
   ]
  },
  {
   "cell_type": "markdown",
   "id": "f0e10158",
   "metadata": {},
   "source": [
    "Same observation. The error bars mean that we can't identify a clear correlation past 1 driving kid. We replace it by has_driving_kid."
   ]
  },
  {
   "cell_type": "markdown",
   "id": "2a56cc6e",
   "metadata": {},
   "source": [
    "#### CLM_FREQ"
   ]
  },
  {
   "cell_type": "code",
   "execution_count": 14,
   "id": "9ef929b2",
   "metadata": {
    "scrolled": true
   },
   "outputs": [
    {
     "data": {
      "text/plain": [
       "<AxesSubplot:xlabel='CLM_FREQ', ylabel='TARGET_FLAG'>"
      ]
     },
     "execution_count": 14,
     "metadata": {},
     "output_type": "execute_result"
    },
    {
     "data": {
      "image/png": "[encoded data removed]",
      "text/plain": [
       "<Figure size 432x288 with 1 Axes>"
      ]
     },
     "metadata": {
      "needs_background": "light"
     },
     "output_type": "display_data"
    }
   ],
   "source": [
    "sns.barplot(data = train_df, x='CLM_FREQ', y='TARGET_FLAG')"
   ]
  },
  {
   "cell_type": "markdown",
   "id": "b30eeae8",
   "metadata": {},
   "source": [
    "Same observation again. We replace it by the binary \"has_claim\""
   ]
  },
  {
   "cell_type": "markdown",
   "id": "3c9aa3b4",
   "metadata": {},
   "source": [
    "#### OLDCLAIM"
   ]
  },
  {
   "cell_type": "code",
   "execution_count": 15,
   "id": "ac3f18e8",
   "metadata": {},
   "outputs": [
    {
     "data": {
      "text/plain": [
       "<AxesSubplot:xlabel='OLDCLAIM', ylabel='Count'>"
      ]
     },
     "execution_count": 15,
     "metadata": {},
     "output_type": "execute_result"
    },
    {
     "data": {
      "image/png": "[encoded data removed]",
      "text/plain": [
       "<Figure size 432x288 with 1 Axes>"
      ]
     },
     "metadata": {
      "needs_background": "light"
     },
     "output_type": "display_data"
    }
   ],
   "source": [
    "sns.histplot(data = train_df, x = 'OLDCLAIM')"
   ]
  },
  {
   "cell_type": "code",
   "execution_count": 16,
   "id": "0a4b4465",
   "metadata": {
    "scrolled": false
   },
   "outputs": [
    {
     "data": {
      "text/plain": [
       "<AxesSubplot:xlabel='TARGET_FLAG', ylabel='OLDCLAIM'>"
      ]
     },
     "execution_count": 16,
     "metadata": {},
     "output_type": "execute_result"
    },
    {
     "data": {
      "image/png": "[encoded data removed]",
      "text/plain": [
       "<Figure size 432x288 with 1 Axes>"
      ]
     },
     "metadata": {
      "needs_background": "light"
     },
     "output_type": "display_data"
    }
   ],
   "source": [
    "sns.barplot(data = train_df, x='TARGET_FLAG', y='OLDCLAIM')"
   ]
  },
  {
   "cell_type": "markdown",
   "id": "f4f5b863",
   "metadata": {},
   "source": [
    "Like we noticed previously, the values are predominantly zero. Still we notice a correlation between this variable and the target."
   ]
  },
  {
   "cell_type": "code",
   "execution_count": 17,
   "id": "ae7c5f0f",
   "metadata": {
    "scrolled": false
   },
   "outputs": [
    {
     "name": "stdout",
     "output_type": "stream",
     "text": [
      "Share of insurance claims amongst oldclaim=0 : 0.17927730085845478\n",
      "Share of insurance claims amongst oldclaim>0 : 0.2505490117787982\n"
     ]
    }
   ],
   "source": [
    "print(f'Share of insurance claims amongst oldclaim=0 : {train_df.loc[train_df.OLDCLAIM == 0].TARGET_FLAG.sum()/train_df.loc[train_df.OLDCLAIM == 0].TARGET_FLAG.count()}')\n",
    "print(f'Share of insurance claims amongst oldclaim>0 : {train_df.loc[train_df.OLDCLAIM > 0].TARGET_FLAG.sum()/train_df.loc[train_df.OLDCLAIM == 0].TARGET_FLAG.count()}')"
   ]
  },
  {
   "cell_type": "markdown",
   "id": "89754005",
   "metadata": {},
   "source": [
    "Once again, we will transform this variable in a binary : \"has positive old claim\""
   ]
  },
  {
   "cell_type": "markdown",
   "id": "6b6eaa8c",
   "metadata": {},
   "source": [
    "#### INCOME"
   ]
  },
  {
   "cell_type": "code",
   "execution_count": 18,
   "id": "c3ad3c7c",
   "metadata": {
    "scrolled": true
   },
   "outputs": [
    {
     "data": {
      "text/plain": [
       "<AxesSubplot:xlabel='TARGET_FLAG', ylabel='INCOME'>"
      ]
     },
     "execution_count": 18,
     "metadata": {},
     "output_type": "execute_result"
    },
    {
     "data": {
      "image/png": "[encoded data removed]",
      "text/plain": [
       "<Figure size 432x288 with 1 Axes>"
      ]
     },
     "metadata": {
      "needs_background": "light"
     },
     "output_type": "display_data"
    }
   ],
   "source": [
    "sns.barplot(data = train_df, x='TARGET_FLAG', y='INCOME')"
   ]
  },
  {
   "cell_type": "markdown",
   "id": "0afb8ee0",
   "metadata": {},
   "source": [
    "We notice a negative correlation between the income and the probability of claim"
   ]
  },
  {
   "cell_type": "code",
   "execution_count": 19,
   "id": "0bcafccc",
   "metadata": {
    "scrolled": false
   },
   "outputs": [
    {
     "data": {
      "text/plain": [
       "<AxesSubplot:xlabel='INCOME', ylabel='Count'>"
      ]
     },
     "execution_count": 19,
     "metadata": {},
     "output_type": "execute_result"
    },
    {
     "data": {
      "image/png": "[encoded data removed]",
      "text/plain": [
       "<Figure size 432x288 with 1 Axes>"
      ]
     },
     "metadata": {
      "needs_background": "light"
     },
     "output_type": "display_data"
    }
   ],
   "source": [
    "sns.histplot(data = train_df, x=train_df.INCOME)"
   ]
  },
  {
   "cell_type": "code",
   "execution_count": 20,
   "id": "49f0720a",
   "metadata": {
    "scrolled": false
   },
   "outputs": [
    {
     "data": {
      "text/plain": [
       "<AxesSubplot:xlabel='INCOME', ylabel='TARGET_FLAG'>"
      ]
     },
     "execution_count": 20,
     "metadata": {},
     "output_type": "execute_result"
    },
    {
     "data": {
      "image/png": "[encoded data removed]",
      "text/plain": [
       "<Figure size 432x288 with 1 Axes>"
      ]
     },
     "metadata": {
      "needs_background": "light"
     },
     "output_type": "display_data"
    }
   ],
   "source": [
    "sns.barplot(data = train_df.groupby(pd.cut(train_df.INCOME,5)).mean(), x='INCOME',y='TARGET_FLAG')"
   ]
  },
  {
   "cell_type": "markdown",
   "id": "32d1eec2",
   "metadata": {},
   "source": [
    "Once again, we will transform this feature into the binary feature 'has_positive_income'"
   ]
  },
  {
   "cell_type": "markdown",
   "id": "9e024879",
   "metadata": {},
   "source": [
    "#### HOME_VAL"
   ]
  },
  {
   "cell_type": "code",
   "execution_count": 21,
   "id": "6f00bc2d",
   "metadata": {
    "scrolled": true
   },
   "outputs": [
    {
     "data": {
      "text/plain": [
       "<AxesSubplot:xlabel='TARGET_FLAG', ylabel='HOME_VAL'>"
      ]
     },
     "execution_count": 21,
     "metadata": {},
     "output_type": "execute_result"
    },
    {
     "data": {
      "image/png": "[encoded data removed]",
      "text/plain": [
       "<Figure size 432x288 with 1 Axes>"
      ]
     },
     "metadata": {
      "needs_background": "light"
     },
     "output_type": "display_data"
    }
   ],
   "source": [
    "sns.barplot(data = train_df, x='TARGET_FLAG', y='HOME_VAL')"
   ]
  },
  {
   "cell_type": "markdown",
   "id": "64fe8064",
   "metadata": {},
   "source": [
    "We notice a negative correlation between the home value and the probability of claim"
   ]
  },
  {
   "cell_type": "code",
   "execution_count": 22,
   "id": "03e7d90e",
   "metadata": {
    "scrolled": false
   },
   "outputs": [
    {
     "data": {
      "text/plain": [
       "<AxesSubplot:xlabel='HOME_VAL', ylabel='Count'>"
      ]
     },
     "execution_count": 22,
     "metadata": {},
     "output_type": "execute_result"
    },
    {
     "data": {
      "image/png": "[encoded data removed]",
      "text/plain": [
       "<Figure size 432x288 with 1 Axes>"
      ]
     },
     "metadata": {
      "needs_background": "light"
     },
     "output_type": "display_data"
    }
   ],
   "source": [
    "sns.histplot(data = train_df, x=train_df.HOME_VAL)"
   ]
  },
  {
   "cell_type": "markdown",
   "id": "e13299cf",
   "metadata": {},
   "source": [
    "Looks like income but with more 0 values. We will transform this into the binary varaible \"has_home\""
   ]
  },
  {
   "cell_type": "markdown",
   "id": "f342be48",
   "metadata": {},
   "source": [
    "#### BLUEBOOK"
   ]
  },
  {
   "cell_type": "code",
   "execution_count": 23,
   "id": "f6adf8c8",
   "metadata": {
    "scrolled": true
   },
   "outputs": [
    {
     "data": {
      "text/plain": [
       "<AxesSubplot:xlabel='TARGET_FLAG', ylabel='BLUEBOOK'>"
      ]
     },
     "execution_count": 23,
     "metadata": {},
     "output_type": "execute_result"
    },
    {
     "data": {
      "image/png": "[encoded data removed]",
      "text/plain": [
       "<Figure size 432x288 with 1 Axes>"
      ]
     },
     "metadata": {
      "needs_background": "light"
     },
     "output_type": "display_data"
    }
   ],
   "source": [
    "sns.barplot(data = train_df, x='TARGET_FLAG', y='BLUEBOOK')"
   ]
  },
  {
   "cell_type": "markdown",
   "id": "f8d9d9cf",
   "metadata": {},
   "source": [
    "We notice a slight negative correlation between the BLUEBOOK value and the probability of claim"
   ]
  },
  {
   "cell_type": "code",
   "execution_count": 24,
   "id": "596050b4",
   "metadata": {
    "scrolled": true
   },
   "outputs": [
    {
     "data": {
      "text/plain": [
       "<AxesSubplot:xlabel='BLUEBOOK', ylabel='Count'>"
      ]
     },
     "execution_count": 24,
     "metadata": {},
     "output_type": "execute_result"
    },
    {
     "data": {
      "image/png": "[encoded data removed]",
      "text/plain": [
       "<Figure size 432x288 with 1 Axes>"
      ]
     },
     "metadata": {
      "needs_background": "light"
     },
     "output_type": "display_data"
    }
   ],
   "source": [
    "sns.histplot(data = train_df, x=train_df.BLUEBOOK)"
   ]
  },
  {
   "cell_type": "code",
   "execution_count": 25,
   "id": "126a861d",
   "metadata": {},
   "outputs": [
    {
     "data": {
      "text/plain": [
       "<AxesSubplot:xlabel='BLUEBOOK', ylabel='Count'>"
      ]
     },
     "execution_count": 25,
     "metadata": {},
     "output_type": "execute_result"
    },
    {
     "data": {
      "image/png": "[encoded data removed]",
      "text/plain": [
       "<Figure size 432x288 with 1 Axes>"
      ]
     },
     "metadata": {
      "needs_background": "light"
     },
     "output_type": "display_data"
    }
   ],
   "source": [
    "sns.histplot(data = train_df, x=np.log(train_df.BLUEBOOK+1))"
   ]
  },
  {
   "cell_type": "code",
   "execution_count": 26,
   "id": "05a908fd",
   "metadata": {
    "scrolled": true
   },
   "outputs": [
    {
     "data": {
      "text/plain": [
       "<AxesSubplot:xlabel='BLUEBOOK', ylabel='TARGET_FLAG'>"
      ]
     },
     "execution_count": 26,
     "metadata": {},
     "output_type": "execute_result"
    },
    {
     "data": {
      "image/png": "[encoded data removed]",
      "text/plain": [
       "<Figure size 1440x432 with 1 Axes>"
      ]
     },
     "metadata": {
      "needs_background": "light"
     },
     "output_type": "display_data"
    }
   ],
   "source": [
    "fig, ax = plt.subplots(figsize=(20,6))\n",
    "sns.barplot(data = train_df.groupby(pd.cut(train_df.BLUEBOOK,10)).mean(), x='BLUEBOOK',y='TARGET_FLAG',ax=ax)"
   ]
  },
  {
   "cell_type": "markdown",
   "id": "81203437",
   "metadata": {},
   "source": [
    "It's difficult to see a clear correlation. We could remove this variable. If we keep it, using the log transform unskews it."
   ]
  },
  {
   "cell_type": "markdown",
   "id": "682ae35a",
   "metadata": {},
   "source": [
    "#### AGE"
   ]
  },
  {
   "cell_type": "code",
   "execution_count": 27,
   "id": "30f835da",
   "metadata": {},
   "outputs": [
    {
     "data": {
      "text/plain": [
       "<AxesSubplot:xlabel='AGE', ylabel='Count'>"
      ]
     },
     "execution_count": 27,
     "metadata": {},
     "output_type": "execute_result"
    },
    {
     "data": {
      "image/png": "[encoded data removed]",
      "text/plain": [
       "<Figure size 432x288 with 1 Axes>"
      ]
     },
     "metadata": {
      "needs_background": "light"
     },
     "output_type": "display_data"
    }
   ],
   "source": [
    "sns.histplot(data=train_df, x='AGE')"
   ]
  },
  {
   "cell_type": "code",
   "execution_count": 28,
   "id": "64756620",
   "metadata": {
    "scrolled": true
   },
   "outputs": [
    {
     "data": {
      "text/plain": [
       "<AxesSubplot:xlabel='AGE', ylabel='TARGET_FLAG'>"
      ]
     },
     "execution_count": 28,
     "metadata": {},
     "output_type": "execute_result"
    },
    {
     "data": {
      "image/png": "[encoded data removed]",
      "text/plain": [
       "<Figure size 1440x432 with 1 Axes>"
      ]
     },
     "metadata": {
      "needs_background": "light"
     },
     "output_type": "display_data"
    }
   ],
   "source": [
    "fig, ax = plt.subplots(figsize=(20,6))\n",
    "sns.barplot(data = train_df.groupby(pd.cut(train_df.AGE,10)).mean(), x='AGE',y='TARGET_FLAG',ax=ax)"
   ]
  },
  {
   "cell_type": "code",
   "execution_count": 29,
   "id": "9bd47ac2",
   "metadata": {},
   "outputs": [
    {
     "data": {
      "text/plain": [
       "<AxesSubplot:xlabel='AGE', ylabel='TARGET_FLAG'>"
      ]
     },
     "execution_count": 29,
     "metadata": {},
     "output_type": "execute_result"
    },
    {
     "data": {
      "image/png": "[encoded data removed]",
      "text/plain": [
       "<Figure size 1440x432 with 1 Axes>"
      ]
     },
     "metadata": {
      "needs_background": "light"
     },
     "output_type": "display_data"
    }
   ],
   "source": [
    "fig, ax = plt.subplots(figsize=(20,6))\n",
    "sns.barplot(data = train_df.groupby(pd.cut(train_df.AGE,[0,30,55,100])).mean(), x='AGE',y='TARGET_FLAG',ax=ax)"
   ]
  },
  {
   "cell_type": "markdown",
   "id": "be388e20",
   "metadata": {},
   "source": [
    "We expect that the claim rate is higher for younger and older people. This is also what we can see on the plot above. \n",
    "\n",
    "We can create an ordinal variable : 0 if age < 30, 1 if  30<age<55 2 if age >55"
   ]
  },
  {
   "cell_type": "markdown",
   "id": "2f163a95",
   "metadata": {},
   "source": [
    "#### YOJ"
   ]
  },
  {
   "cell_type": "code",
   "execution_count": 30,
   "id": "2d90b8ed",
   "metadata": {
    "scrolled": true
   },
   "outputs": [
    {
     "data": {
      "text/plain": [
       "<AxesSubplot:xlabel='YOJ', ylabel='Count'>"
      ]
     },
     "execution_count": 30,
     "metadata": {},
     "output_type": "execute_result"
    },
    {
     "data": {
      "image/png": "[encoded data removed]",
      "text/plain": [
       "<Figure size 432x288 with 1 Axes>"
      ]
     },
     "metadata": {
      "needs_background": "light"
     },
     "output_type": "display_data"
    }
   ],
   "source": [
    "sns.histplot(data=train_df, x='YOJ')"
   ]
  },
  {
   "cell_type": "code",
   "execution_count": 31,
   "id": "2a89cf10",
   "metadata": {
    "scrolled": false
   },
   "outputs": [
    {
     "data": {
      "text/plain": [
       "<AxesSubplot:xlabel='YOJ', ylabel='TARGET_FLAG'>"
      ]
     },
     "execution_count": 31,
     "metadata": {},
     "output_type": "execute_result"
    },
    {
     "data": {
      "image/png": "[encoded data removed]",
      "text/plain": [
       "<Figure size 1440x432 with 1 Axes>"
      ]
     },
     "metadata": {
      "needs_background": "light"
     },
     "output_type": "display_data"
    }
   ],
   "source": [
    "fig, ax = plt.subplots(figsize=(20,6))\n",
    "sns.barplot(data = train_df, x='YOJ',y='TARGET_FLAG',ax=ax)"
   ]
  },
  {
   "cell_type": "markdown",
   "id": "e511f8cb",
   "metadata": {},
   "source": [
    "Persons with 0 YOJ have a higher chance of claim. We make this field a binary variable: YOJ_0"
   ]
  },
  {
   "cell_type": "markdown",
   "id": "9254b0b8",
   "metadata": {},
   "source": [
    "#### TRAVTIME"
   ]
  },
  {
   "cell_type": "code",
   "execution_count": 32,
   "id": "1263cf17",
   "metadata": {},
   "outputs": [
    {
     "data": {
      "text/plain": [
       "<AxesSubplot:xlabel='TRAVTIME', ylabel='Count'>"
      ]
     },
     "execution_count": 32,
     "metadata": {},
     "output_type": "execute_result"
    },
    {
     "data": {
      "image/png": "[encoded data removed]",
      "text/plain": [
       "<Figure size 432x288 with 1 Axes>"
      ]
     },
     "metadata": {
      "needs_background": "light"
     },
     "output_type": "display_data"
    }
   ],
   "source": [
    "sns.histplot(data=train_df, x='TRAVTIME')"
   ]
  },
  {
   "cell_type": "markdown",
   "id": "8634d465",
   "metadata": {},
   "source": [
    "Data is skewed to the right, we take the log"
   ]
  },
  {
   "cell_type": "code",
   "execution_count": 33,
   "id": "1a4eaab4",
   "metadata": {},
   "outputs": [
    {
     "data": {
      "text/plain": [
       "<AxesSubplot:xlabel='TRAVTIME', ylabel='Count'>"
      ]
     },
     "execution_count": 33,
     "metadata": {},
     "output_type": "execute_result"
    },
    {
     "data": {
      "image/png": "[encoded data removed]",
      "text/plain": [
       "<Figure size 432x288 with 1 Axes>"
      ]
     },
     "metadata": {
      "needs_background": "light"
     },
     "output_type": "display_data"
    }
   ],
   "source": [
    "sns.histplot(data=train_df, x=np.log(train_df['TRAVTIME']))"
   ]
  },
  {
   "cell_type": "code",
   "execution_count": 34,
   "id": "530f0497",
   "metadata": {
    "scrolled": true
   },
   "outputs": [
    {
     "data": {
      "text/plain": [
       "<AxesSubplot:xlabel='TARGET_FLAG', ylabel='TRAVTIME'>"
      ]
     },
     "execution_count": 34,
     "metadata": {},
     "output_type": "execute_result"
    },
    {
     "data": {
      "image/png": "[encoded data removed]",
      "text/plain": [
       "<Figure size 432x288 with 1 Axes>"
      ]
     },
     "metadata": {
      "needs_background": "light"
     },
     "output_type": "display_data"
    }
   ],
   "source": [
    "sns.barplot(data = train_df, x='TARGET_FLAG',y='TRAVTIME')"
   ]
  },
  {
   "cell_type": "code",
   "execution_count": 35,
   "id": "73fe7129",
   "metadata": {
    "scrolled": false
   },
   "outputs": [
    {
     "data": {
      "text/plain": [
       "<AxesSubplot:xlabel='TRAVTIME', ylabel='TARGET_FLAG'>"
      ]
     },
     "execution_count": 35,
     "metadata": {},
     "output_type": "execute_result"
    },
    {
     "data": {
      "image/png": "[encoded data removed]",
      "text/plain": [
       "<Figure size 1440x432 with 1 Axes>"
      ]
     },
     "metadata": {
      "needs_background": "light"
     },
     "output_type": "display_data"
    }
   ],
   "source": [
    "fig, ax = plt.subplots(figsize=(20,6))\n",
    "sns.barplot(data = train_df.groupby(pd.cut(train_df.TRAVTIME,10)).mean(), x='TRAVTIME',y='TARGET_FLAG')"
   ]
  },
  {
   "cell_type": "markdown",
   "id": "ac88411a",
   "metadata": {},
   "source": [
    "We notice a positive correlation between travel time and risk of insurance claim, which is to be expected.\n",
    "We take the log of this variable to unskew it"
   ]
  },
  {
   "cell_type": "markdown",
   "id": "05e74fa8",
   "metadata": {},
   "source": [
    "#### TIF"
   ]
  },
  {
   "cell_type": "code",
   "execution_count": 36,
   "id": "b9b3d738",
   "metadata": {},
   "outputs": [
    {
     "data": {
      "text/plain": [
       "<AxesSubplot:xlabel='TIF', ylabel='Count'>"
      ]
     },
     "execution_count": 36,
     "metadata": {},
     "output_type": "execute_result"
    },
    {
     "data": {
      "image/png": "[encoded data removed]",
      "text/plain": [
       "<Figure size 432x288 with 1 Axes>"
      ]
     },
     "metadata": {
      "needs_background": "light"
     },
     "output_type": "display_data"
    }
   ],
   "source": [
    "sns.histplot(data=train_df, x=train_df['TIF'])"
   ]
  },
  {
   "cell_type": "code",
   "execution_count": 37,
   "id": "1e9ffe48",
   "metadata": {},
   "outputs": [
    {
     "data": {
      "text/plain": [
       "<AxesSubplot:xlabel='TARGET_FLAG', ylabel='TIF'>"
      ]
     },
     "execution_count": 37,
     "metadata": {},
     "output_type": "execute_result"
    },
    {
     "data": {
      "image/png": "[encoded data removed]",
      "text/plain": [
       "<Figure size 432x288 with 1 Axes>"
      ]
     },
     "metadata": {
      "needs_background": "light"
     },
     "output_type": "display_data"
    }
   ],
   "source": [
    "sns.barplot(data = train_df, x='TARGET_FLAG',y='TIF')"
   ]
  },
  {
   "cell_type": "code",
   "execution_count": 38,
   "id": "2ef08a28",
   "metadata": {
    "scrolled": true
   },
   "outputs": [
    {
     "data": {
      "text/plain": [
       "<AxesSubplot:xlabel='TIF', ylabel='TARGET_FLAG'>"
      ]
     },
     "execution_count": 38,
     "metadata": {},
     "output_type": "execute_result"
    },
    {
     "data": {
      "image/png": "[encoded data removed]",
      "text/plain": [
       "<Figure size 432x288 with 1 Axes>"
      ]
     },
     "metadata": {
      "needs_background": "light"
     },
     "output_type": "display_data"
    }
   ],
   "source": [
    "sns.barplot(data = train_df, x='TIF',y='TARGET_FLAG')"
   ]
  },
  {
   "cell_type": "code",
   "execution_count": 39,
   "id": "1e48a3b5",
   "metadata": {},
   "outputs": [
    {
     "data": {
      "text/plain": [
       "0.30793525463876825"
      ]
     },
     "execution_count": 39,
     "metadata": {},
     "output_type": "execute_result"
    }
   ],
   "source": [
    "train_df.loc[train_df.TIF == 1].TARGET_FLAG.mean()"
   ]
  },
  {
   "cell_type": "code",
   "execution_count": 40,
   "id": "4425e935",
   "metadata": {},
   "outputs": [
    {
     "data": {
      "text/plain": [
       "0.2439587775408671"
      ]
     },
     "execution_count": 40,
     "metadata": {},
     "output_type": "execute_result"
    }
   ],
   "source": [
    "train_df.loc[train_df.TIF != 1].TARGET_FLAG.mean()"
   ]
  },
  {
   "cell_type": "markdown",
   "id": "da08e76f",
   "metadata": {},
   "source": [
    "We notice that the risk of claim decreases as TIF increases, but there is a large amount of 1 value. We transfrom this variable as a binary : is_TIF_1"
   ]
  },
  {
   "cell_type": "markdown",
   "id": "e930188d",
   "metadata": {},
   "source": [
    "#### MVR_PTS"
   ]
  },
  {
   "cell_type": "markdown",
   "id": "04fc52cb",
   "metadata": {},
   "source": [
    "This Motor vehicle record points, a score of the quality of the driving (lower the better). We expect it to be positively correlated with claim risk "
   ]
  },
  {
   "cell_type": "code",
   "execution_count": 41,
   "id": "a5163004",
   "metadata": {},
   "outputs": [
    {
     "data": {
      "text/plain": [
       "<AxesSubplot:xlabel='MVR_PTS', ylabel='Count'>"
      ]
     },
     "execution_count": 41,
     "metadata": {},
     "output_type": "execute_result"
    },
    {
     "data": {
      "image/png": "[encoded data removed]",
      "text/plain": [
       "<Figure size 432x288 with 1 Axes>"
      ]
     },
     "metadata": {
      "needs_background": "light"
     },
     "output_type": "display_data"
    }
   ],
   "source": [
    "sns.histplot(data=train_df, x='MVR_PTS')"
   ]
  },
  {
   "cell_type": "code",
   "execution_count": 42,
   "id": "1bd31e14",
   "metadata": {},
   "outputs": [
    {
     "data": {
      "text/plain": [
       "<AxesSubplot:xlabel='MVR_PTS', ylabel='TARGET_FLAG'>"
      ]
     },
     "execution_count": 42,
     "metadata": {},
     "output_type": "execute_result"
    },
    {
     "data": {
      "image/png": "[encoded data removed]",
      "text/plain": [
       "<Figure size 432x288 with 1 Axes>"
      ]
     },
     "metadata": {
      "needs_background": "light"
     },
     "output_type": "display_data"
    }
   ],
   "source": [
    "sns.barplot(data = train_df, x='MVR_PTS',y='TARGET_FLAG')"
   ]
  },
  {
   "cell_type": "markdown",
   "id": "c8543519",
   "metadata": {},
   "source": [
    "We have a nice positive correlation. We can put all the values above 10 at 10 because there are so few"
   ]
  },
  {
   "cell_type": "markdown",
   "id": "30301f09",
   "metadata": {},
   "source": [
    "#### CAR_AGE"
   ]
  },
  {
   "cell_type": "markdown",
   "id": "03a8099f",
   "metadata": {},
   "source": [
    "We expect the risk of claim to increase with the age of the car"
   ]
  },
  {
   "cell_type": "code",
   "execution_count": 43,
   "id": "4c284e4a",
   "metadata": {
    "scrolled": true
   },
   "outputs": [
    {
     "data": {
      "text/plain": [
       "<AxesSubplot:xlabel='CAR_AGE', ylabel='Count'>"
      ]
     },
     "execution_count": 43,
     "metadata": {},
     "output_type": "execute_result"
    },
    {
     "data": {
      "image/png": "[encoded data removed]",
      "text/plain": [
       "<Figure size 432x288 with 1 Axes>"
      ]
     },
     "metadata": {
      "needs_background": "light"
     },
     "output_type": "display_data"
    }
   ],
   "source": [
    "sns.histplot(data=train_df, x='CAR_AGE')"
   ]
  },
  {
   "cell_type": "code",
   "execution_count": 44,
   "id": "86f37e80",
   "metadata": {
    "scrolled": false
   },
   "outputs": [
    {
     "data": {
      "text/html": [
       "<div>\n",
       "<style scoped>\n",
       "    .dataframe tbody tr th:only-of-type {\n",
       "        vertical-align: middle;\n",
       "    }\n",
       "\n",
       "    .dataframe tbody tr th {\n",
       "        vertical-align: top;\n",
       "    }\n",
       "\n",
       "    .dataframe thead th {\n",
       "        text-align: right;\n",
       "    }\n",
       "</style>\n",
       "<table border=\"1\" class=\"dataframe\">\n",
       "  <thead>\n",
       "    <tr style=\"text-align: right;\">\n",
       "      <th></th>\n",
       "      <th>TARGET_FLAG</th>\n",
       "      <th>KIDSDRIV</th>\n",
       "      <th>AGE</th>\n",
       "      <th>HOMEKIDS</th>\n",
       "      <th>YOJ</th>\n",
       "      <th>INCOME</th>\n",
       "      <th>PARENT1</th>\n",
       "      <th>HOME_VAL</th>\n",
       "      <th>MSTATUS</th>\n",
       "      <th>SEX</th>\n",
       "      <th>EDUCATION</th>\n",
       "      <th>JOB</th>\n",
       "      <th>TRAVTIME</th>\n",
       "      <th>CAR_USE</th>\n",
       "      <th>BLUEBOOK</th>\n",
       "      <th>TIF</th>\n",
       "      <th>CAR_TYPE</th>\n",
       "      <th>RED_CAR</th>\n",
       "      <th>OLDCLAIM</th>\n",
       "      <th>CLM_FREQ</th>\n",
       "      <th>REVOKED</th>\n",
       "      <th>MVR_PTS</th>\n",
       "      <th>CAR_AGE</th>\n",
       "      <th>URBANICITY</th>\n",
       "    </tr>\n",
       "  </thead>\n",
       "  <tbody>\n",
       "    <tr>\n",
       "      <th>6940</th>\n",
       "      <td>1</td>\n",
       "      <td>0</td>\n",
       "      <td>47.0</td>\n",
       "      <td>0</td>\n",
       "      <td>12.0</td>\n",
       "      <td>48696.0</td>\n",
       "      <td>No</td>\n",
       "      <td>212014.0</td>\n",
       "      <td>z_No</td>\n",
       "      <td>z_F</td>\n",
       "      <td>Bachelors</td>\n",
       "      <td>Professional</td>\n",
       "      <td>46</td>\n",
       "      <td>Private</td>\n",
       "      <td>15390.0</td>\n",
       "      <td>4</td>\n",
       "      <td>Pickup</td>\n",
       "      <td>no</td>\n",
       "      <td>33521.0</td>\n",
       "      <td>3</td>\n",
       "      <td>Yes</td>\n",
       "      <td>1</td>\n",
       "      <td>-3.0</td>\n",
       "      <td>Highly Urban/ Urban</td>\n",
       "    </tr>\n",
       "  </tbody>\n",
       "</table>\n",
       "</div>"
      ],
      "text/plain": [
       "      TARGET_FLAG  KIDSDRIV   AGE  HOMEKIDS   YOJ   INCOME PARENT1  HOME_VAL  \\\n",
       "6940            1         0  47.0         0  12.0  48696.0      No  212014.0   \n",
       "\n",
       "     MSTATUS  SEX  EDUCATION           JOB  TRAVTIME  CAR_USE  BLUEBOOK  TIF  \\\n",
       "6940    z_No  z_F  Bachelors  Professional        46  Private   15390.0    4   \n",
       "\n",
       "     CAR_TYPE RED_CAR  OLDCLAIM  CLM_FREQ REVOKED  MVR_PTS  CAR_AGE  \\\n",
       "6940   Pickup      no   33521.0         3     Yes        1     -3.0   \n",
       "\n",
       "               URBANICITY  \n",
       "6940  Highly Urban/ Urban  "
      ]
     },
     "execution_count": 44,
     "metadata": {},
     "output_type": "execute_result"
    }
   ],
   "source": [
    "train_df.loc[train_df.CAR_AGE<0]"
   ]
  },
  {
   "cell_type": "markdown",
   "id": "d907b6a6",
   "metadata": {},
   "source": [
    "We have a car with negative age. This is probably a mistake. We fix negative values with 0, the most frequent age"
   ]
  },
  {
   "cell_type": "code",
   "execution_count": 45,
   "id": "d64caedd",
   "metadata": {},
   "outputs": [],
   "source": [
    "train_df.loc[train_df.CAR_AGE<0,'CAR_AGE'] = 0"
   ]
  },
  {
   "cell_type": "code",
   "execution_count": 46,
   "id": "6f4b8e1d",
   "metadata": {},
   "outputs": [
    {
     "data": {
      "text/plain": [
       "<AxesSubplot:xlabel='TARGET_FLAG', ylabel='CAR_AGE'>"
      ]
     },
     "execution_count": 46,
     "metadata": {},
     "output_type": "execute_result"
    },
    {
     "data": {
      "image/png": "[encoded data removed]",
      "text/plain": [
       "<Figure size 432x288 with 1 Axes>"
      ]
     },
     "metadata": {
      "needs_background": "light"
     },
     "output_type": "display_data"
    }
   ],
   "source": [
    "sns.barplot(data = train_df, x='TARGET_FLAG',y='CAR_AGE')"
   ]
  },
  {
   "cell_type": "code",
   "execution_count": 47,
   "id": "0bb103d2",
   "metadata": {
    "scrolled": true
   },
   "outputs": [
    {
     "data": {
      "text/plain": [
       "<AxesSubplot:xlabel='CAR_AGE', ylabel='TARGET_FLAG'>"
      ]
     },
     "execution_count": 47,
     "metadata": {},
     "output_type": "execute_result"
    },
    {
     "data": {
      "image/png": "[encoded data removed]",
      "text/plain": [
       "<Figure size 432x288 with 1 Axes>"
      ]
     },
     "metadata": {
      "needs_background": "light"
     },
     "output_type": "display_data"
    }
   ],
   "source": [
    "sns.barplot(data = train_df, x='CAR_AGE',y='TARGET_FLAG')"
   ]
  },
  {
   "cell_type": "markdown",
   "id": "facdc529",
   "metadata": {},
   "source": [
    "Unexpectedly, we have a negative correlation between CAR_AGE and the target. The distribution is almost normal past the 0 value. We leave this feature as is"
   ]
  },
  {
   "cell_type": "markdown",
   "id": "f5c94eb3",
   "metadata": {},
   "source": [
    "### Repartition and correlation with the target of the object variables"
   ]
  },
  {
   "cell_type": "code",
   "execution_count": 48,
   "id": "dea22d0d",
   "metadata": {
    "scrolled": true
   },
   "outputs": [
    {
     "data": {
      "text/html": [
       "<div>\n",
       "<style scoped>\n",
       "    .dataframe tbody tr th:only-of-type {\n",
       "        vertical-align: middle;\n",
       "    }\n",
       "\n",
       "    .dataframe tbody tr th {\n",
       "        vertical-align: top;\n",
       "    }\n",
       "\n",
       "    .dataframe thead th {\n",
       "        text-align: right;\n",
       "    }\n",
       "</style>\n",
       "<table border=\"1\" class=\"dataframe\">\n",
       "  <thead>\n",
       "    <tr style=\"text-align: right;\">\n",
       "      <th></th>\n",
       "      <th>PARENT1</th>\n",
       "      <th>MSTATUS</th>\n",
       "      <th>SEX</th>\n",
       "      <th>EDUCATION</th>\n",
       "      <th>JOB</th>\n",
       "      <th>CAR_USE</th>\n",
       "      <th>CAR_TYPE</th>\n",
       "      <th>RED_CAR</th>\n",
       "      <th>REVOKED</th>\n",
       "      <th>URBANICITY</th>\n",
       "    </tr>\n",
       "  </thead>\n",
       "  <tbody>\n",
       "    <tr>\n",
       "      <th>count</th>\n",
       "      <td>8161</td>\n",
       "      <td>8161</td>\n",
       "      <td>8161</td>\n",
       "      <td>8161</td>\n",
       "      <td>7635</td>\n",
       "      <td>8161</td>\n",
       "      <td>8161</td>\n",
       "      <td>8161</td>\n",
       "      <td>8161</td>\n",
       "      <td>8161</td>\n",
       "    </tr>\n",
       "    <tr>\n",
       "      <th>unique</th>\n",
       "      <td>2</td>\n",
       "      <td>2</td>\n",
       "      <td>2</td>\n",
       "      <td>4</td>\n",
       "      <td>8</td>\n",
       "      <td>2</td>\n",
       "      <td>6</td>\n",
       "      <td>2</td>\n",
       "      <td>2</td>\n",
       "      <td>2</td>\n",
       "    </tr>\n",
       "    <tr>\n",
       "      <th>top</th>\n",
       "      <td>No</td>\n",
       "      <td>Yes</td>\n",
       "      <td>z_F</td>\n",
       "      <td>High School</td>\n",
       "      <td>z_Blue Collar</td>\n",
       "      <td>Private</td>\n",
       "      <td>z_SUV</td>\n",
       "      <td>no</td>\n",
       "      <td>No</td>\n",
       "      <td>Highly Urban/ Urban</td>\n",
       "    </tr>\n",
       "    <tr>\n",
       "      <th>freq</th>\n",
       "      <td>7084</td>\n",
       "      <td>4894</td>\n",
       "      <td>4375</td>\n",
       "      <td>3533</td>\n",
       "      <td>1825</td>\n",
       "      <td>5132</td>\n",
       "      <td>2294</td>\n",
       "      <td>5783</td>\n",
       "      <td>7161</td>\n",
       "      <td>6492</td>\n",
       "    </tr>\n",
       "  </tbody>\n",
       "</table>\n",
       "</div>"
      ],
      "text/plain": [
       "       PARENT1 MSTATUS   SEX    EDUCATION            JOB  CAR_USE CAR_TYPE  \\\n",
       "count     8161    8161  8161         8161           7635     8161     8161   \n",
       "unique       2       2     2            4              8        2        6   \n",
       "top         No     Yes   z_F  High School  z_Blue Collar  Private    z_SUV   \n",
       "freq      7084    4894  4375         3533           1825     5132     2294   \n",
       "\n",
       "       RED_CAR REVOKED           URBANICITY  \n",
       "count     8161    8161                 8161  \n",
       "unique       2       2                    2  \n",
       "top         no      No  Highly Urban/ Urban  \n",
       "freq      5783    7161                 6492  "
      ]
     },
     "execution_count": 48,
     "metadata": {},
     "output_type": "execute_result"
    }
   ],
   "source": [
    "train_df.describe(include=['O'])"
   ]
  },
  {
   "cell_type": "markdown",
   "id": "1f42b6f6",
   "metadata": {},
   "source": [
    "#### PARENT1"
   ]
  },
  {
   "cell_type": "markdown",
   "id": "262a227d",
   "metadata": {},
   "source": [
    "This tell us if the driver is a single parent. We may expect them to be slightly more precautious"
   ]
  },
  {
   "cell_type": "code",
   "execution_count": 49,
   "id": "6c9b6473",
   "metadata": {
    "scrolled": true
   },
   "outputs": [
    {
     "data": {
      "text/plain": [
       "<AxesSubplot:xlabel='PARENT1', ylabel='Count'>"
      ]
     },
     "execution_count": 49,
     "metadata": {},
     "output_type": "execute_result"
    },
    {
     "data": {
      "image/png": "[encoded data removed]",
      "text/plain": [
       "<Figure size 432x288 with 1 Axes>"
      ]
     },
     "metadata": {
      "needs_background": "light"
     },
     "output_type": "display_data"
    }
   ],
   "source": [
    "sns.histplot(data=train_df, x='PARENT1')"
   ]
  },
  {
   "cell_type": "code",
   "execution_count": 50,
   "id": "451270bb",
   "metadata": {},
   "outputs": [
    {
     "data": {
      "text/plain": [
       "<AxesSubplot:xlabel='PARENT1', ylabel='TARGET_FLAG'>"
      ]
     },
     "execution_count": 50,
     "metadata": {},
     "output_type": "execute_result"
    },
    {
     "data": {
      "image/png": "[encoded data removed]",
      "text/plain": [
       "<Figure size 432x288 with 1 Axes>"
      ]
     },
     "metadata": {
      "needs_background": "light"
     },
     "output_type": "display_data"
    }
   ],
   "source": [
    "sns.barplot(data=train_df, x='PARENT1',y='TARGET_FLAG')"
   ]
  },
  {
   "cell_type": "markdown",
   "id": "5dfb66c4",
   "metadata": {},
   "source": [
    "Unexpectedly, single parents have a higher risk. We make it binary : is_single_parent"
   ]
  },
  {
   "cell_type": "markdown",
   "id": "18f4cfd4",
   "metadata": {},
   "source": [
    "#### MSTATUS"
   ]
  },
  {
   "cell_type": "markdown",
   "id": "d10c5080",
   "metadata": {},
   "source": [
    "This tell us if the driver is a married. We may expect them to be slightly more precautious"
   ]
  },
  {
   "cell_type": "code",
   "execution_count": 51,
   "id": "54314ab0",
   "metadata": {},
   "outputs": [
    {
     "data": {
      "text/plain": [
       "<AxesSubplot:xlabel='MSTATUS', ylabel='Count'>"
      ]
     },
     "execution_count": 51,
     "metadata": {},
     "output_type": "execute_result"
    },
    {
     "data": {
      "image/png": "[encoded data removed]",
      "text/plain": [
       "<Figure size 432x288 with 1 Axes>"
      ]
     },
     "metadata": {
      "needs_background": "light"
     },
     "output_type": "display_data"
    }
   ],
   "source": [
    "sns.histplot(data=train_df, x='MSTATUS')"
   ]
  },
  {
   "cell_type": "code",
   "execution_count": 52,
   "id": "4c58ec55",
   "metadata": {},
   "outputs": [
    {
     "data": {
      "text/plain": [
       "<AxesSubplot:xlabel='MSTATUS', ylabel='TARGET_FLAG'>"
      ]
     },
     "execution_count": 52,
     "metadata": {},
     "output_type": "execute_result"
    },
    {
     "data": {
      "image/png": "[encoded data removed]",
      "text/plain": [
       "<Figure size 432x288 with 1 Axes>"
      ]
     },
     "metadata": {
      "needs_background": "light"
     },
     "output_type": "display_data"
    }
   ],
   "source": [
    "sns.barplot(data=train_df, x='MSTATUS',y='TARGET_FLAG')"
   ]
  },
  {
   "cell_type": "markdown",
   "id": "c982b999",
   "metadata": {},
   "source": [
    "Same correlation as expected. We make it binary : \"is_married\""
   ]
  },
  {
   "cell_type": "markdown",
   "id": "f156ffd0",
   "metadata": {},
   "source": [
    "#### SEX"
   ]
  },
  {
   "cell_type": "markdown",
   "id": "40a36f6b",
   "metadata": {},
   "source": [
    "We expect women to be safer drivers"
   ]
  },
  {
   "cell_type": "code",
   "execution_count": 53,
   "id": "3be74712",
   "metadata": {},
   "outputs": [
    {
     "data": {
      "text/plain": [
       "<AxesSubplot:xlabel='SEX', ylabel='Count'>"
      ]
     },
     "execution_count": 53,
     "metadata": {},
     "output_type": "execute_result"
    },
    {
     "data": {
      "image/png": "[encoded data removed]",
      "text/plain": [
       "<Figure size 432x288 with 1 Axes>"
      ]
     },
     "metadata": {
      "needs_background": "light"
     },
     "output_type": "display_data"
    }
   ],
   "source": [
    "sns.histplot(data=train_df, x='SEX')"
   ]
  },
  {
   "cell_type": "code",
   "execution_count": 54,
   "id": "eb76c5b4",
   "metadata": {
    "scrolled": true
   },
   "outputs": [
    {
     "data": {
      "text/plain": [
       "<AxesSubplot:xlabel='SEX', ylabel='TARGET_FLAG'>"
      ]
     },
     "execution_count": 54,
     "metadata": {},
     "output_type": "execute_result"
    },
    {
     "data": {
      "image/png": "[encoded data removed]",
      "text/plain": [
       "<Figure size 432x288 with 1 Axes>"
      ]
     },
     "metadata": {
      "needs_background": "light"
     },
     "output_type": "display_data"
    }
   ],
   "source": [
    "sns.barplot(data=train_df, x='SEX',y='TARGET_FLAG')"
   ]
  },
  {
   "cell_type": "markdown",
   "id": "613949bc",
   "metadata": {},
   "source": [
    "We notice a slight correlation, we make it binary : is_male"
   ]
  },
  {
   "cell_type": "markdown",
   "id": "c39f7c4e",
   "metadata": {},
   "source": [
    "#### EDUCATION"
   ]
  },
  {
   "cell_type": "code",
   "execution_count": 55,
   "id": "90d07a8a",
   "metadata": {
    "scrolled": true
   },
   "outputs": [
    {
     "data": {
      "text/plain": [
       "<AxesSubplot:xlabel='EDUCATION', ylabel='Count'>"
      ]
     },
     "execution_count": 55,
     "metadata": {},
     "output_type": "execute_result"
    },
    {
     "data": {
      "image/png": "[encoded data removed]",
      "text/plain": [
       "<Figure size 432x288 with 1 Axes>"
      ]
     },
     "metadata": {
      "needs_background": "light"
     },
     "output_type": "display_data"
    }
   ],
   "source": [
    "sns.histplot(data=train_df, x='EDUCATION')"
   ]
  },
  {
   "cell_type": "code",
   "execution_count": 56,
   "id": "b10cc0cb",
   "metadata": {
    "scrolled": true
   },
   "outputs": [
    {
     "data": {
      "text/plain": [
       "<AxesSubplot:xlabel='EDUCATION', ylabel='TARGET_FLAG'>"
      ]
     },
     "execution_count": 56,
     "metadata": {},
     "output_type": "execute_result"
    },
    {
     "data": {
      "image/png": "[encoded data removed]",
      "text/plain": [
       "<Figure size 432x288 with 1 Axes>"
      ]
     },
     "metadata": {
      "needs_background": "light"
     },
     "output_type": "display_data"
    }
   ],
   "source": [
    "sns.barplot(data=train_df, x='EDUCATION',y='TARGET_FLAG')"
   ]
  },
  {
   "cell_type": "markdown",
   "id": "f843b8d8",
   "metadata": {},
   "source": [
    "We notice a strong risk increase for the least educated. The other values are similar. We transform this variable as a binary : has_higher_education"
   ]
  },
  {
   "cell_type": "markdown",
   "id": "075e0b48",
   "metadata": {},
   "source": [
    "#### JOB"
   ]
  },
  {
   "cell_type": "markdown",
   "id": "a91b57f1",
   "metadata": {},
   "source": [
    "We expect blue collar jobs and students to have a higher risk"
   ]
  },
  {
   "cell_type": "code",
   "execution_count": 57,
   "id": "dd243612",
   "metadata": {},
   "outputs": [
    {
     "data": {
      "text/plain": [
       "<AxesSubplot:xlabel='JOB', ylabel='Count'>"
      ]
     },
     "execution_count": 57,
     "metadata": {},
     "output_type": "execute_result"
    },
    {
     "data": {
      "image/png": "[encoded data removed]",
      "text/plain": [
       "<Figure size 1440x432 with 1 Axes>"
      ]
     },
     "metadata": {
      "needs_background": "light"
     },
     "output_type": "display_data"
    }
   ],
   "source": [
    "fig, ax = plt.subplots(figsize=(20,6))\n",
    "sns.histplot(data = train_df, x='JOB',ax=ax)"
   ]
  },
  {
   "cell_type": "code",
   "execution_count": 58,
   "id": "461ee227",
   "metadata": {},
   "outputs": [
    {
     "data": {
      "text/plain": [
       "<AxesSubplot:xlabel='JOB', ylabel='TARGET_FLAG'>"
      ]
     },
     "execution_count": 58,
     "metadata": {},
     "output_type": "execute_result"
    },
    {
     "data": {
      "image/png": "[encoded data removed]",
      "text/plain": [
       "<Figure size 1440x432 with 1 Axes>"
      ]
     },
     "metadata": {
      "needs_background": "light"
     },
     "output_type": "display_data"
    }
   ],
   "source": [
    "fig, ax = plt.subplots(figsize=(20,6))\n",
    "sns.barplot(data = train_df, x='JOB',y='TARGET_FLAG',ax=ax)"
   ]
  },
  {
   "cell_type": "markdown",
   "id": "6247371b",
   "metadata": {},
   "source": [
    "As expected,blue collar and students have a higher risk. Doctor,lawyers and managers have substantially lower risk. We create a var with 3 values : low_rank for students and blue_collars, highest_rank for Doctor,lawyers and managers; and other for the rest"
   ]
  },
  {
   "cell_type": "markdown",
   "id": "7bf75a79",
   "metadata": {},
   "source": [
    "#### CAR_TYPE"
   ]
  },
  {
   "cell_type": "code",
   "execution_count": 59,
   "id": "a9a2f5f0",
   "metadata": {},
   "outputs": [
    {
     "data": {
      "text/plain": [
       "<AxesSubplot:xlabel='CAR_TYPE', ylabel='Count'>"
      ]
     },
     "execution_count": 59,
     "metadata": {},
     "output_type": "execute_result"
    },
    {
     "data": {
      "image/png": "[encoded data removed]",
      "text/plain": [
       "<Figure size 432x288 with 1 Axes>"
      ]
     },
     "metadata": {
      "needs_background": "light"
     },
     "output_type": "display_data"
    }
   ],
   "source": [
    "sns.histplot(data = train_df, x='CAR_TYPE')"
   ]
  },
  {
   "cell_type": "code",
   "execution_count": 60,
   "id": "105dedaa",
   "metadata": {},
   "outputs": [
    {
     "data": {
      "text/plain": [
       "<AxesSubplot:xlabel='CAR_TYPE', ylabel='TARGET_FLAG'>"
      ]
     },
     "execution_count": 60,
     "metadata": {},
     "output_type": "execute_result"
    },
    {
     "data": {
      "image/png": "[encoded data removed]",
      "text/plain": [
       "<Figure size 432x288 with 1 Axes>"
      ]
     },
     "metadata": {
      "needs_background": "light"
     },
     "output_type": "display_data"
    }
   ],
   "source": [
    "sns.barplot(data = train_df, x='CAR_TYPE',y='TARGET_FLAG')"
   ]
  },
  {
   "cell_type": "markdown",
   "id": "69834209",
   "metadata": {},
   "source": [
    "We notice that minivans have a much lower risk. We create a variable \"is_minivan\""
   ]
  },
  {
   "cell_type": "markdown",
   "id": "07f2ec2a",
   "metadata": {},
   "source": [
    "#### RED_CAR"
   ]
  },
  {
   "cell_type": "code",
   "execution_count": 61,
   "id": "01186a57",
   "metadata": {},
   "outputs": [
    {
     "data": {
      "text/plain": [
       "<AxesSubplot:xlabel='RED_CAR', ylabel='Count'>"
      ]
     },
     "execution_count": 61,
     "metadata": {},
     "output_type": "execute_result"
    },
    {
     "data": {
      "image/png": "[encoded data removed]",
      "text/plain": [
       "<Figure size 432x288 with 1 Axes>"
      ]
     },
     "metadata": {
      "needs_background": "light"
     },
     "output_type": "display_data"
    }
   ],
   "source": [
    "sns.histplot(data = train_df, x='RED_CAR')"
   ]
  },
  {
   "cell_type": "code",
   "execution_count": 62,
   "id": "135c33ab",
   "metadata": {},
   "outputs": [
    {
     "data": {
      "text/plain": [
       "<AxesSubplot:xlabel='RED_CAR', ylabel='TARGET_FLAG'>"
      ]
     },
     "execution_count": 62,
     "metadata": {},
     "output_type": "execute_result"
    },
    {
     "data": {
      "image/png": "[encoded data removed]",
      "text/plain": [
       "<Figure size 432x288 with 1 Axes>"
      ]
     },
     "metadata": {
      "needs_background": "light"
     },
     "output_type": "display_data"
    }
   ],
   "source": [
    "sns.barplot(data = train_df, x='RED_CAR',y='TARGET_FLAG')"
   ]
  },
  {
   "cell_type": "markdown",
   "id": "3762c65c",
   "metadata": {},
   "source": [
    "The color of the car as no impact on risk, as expected. We remove this feature"
   ]
  },
  {
   "cell_type": "markdown",
   "id": "7a560559",
   "metadata": {},
   "source": [
    "#### REVOKED"
   ]
  },
  {
   "cell_type": "markdown",
   "id": "48535bbd",
   "metadata": {},
   "source": [
    "People who lost their license most likely have a higher risk"
   ]
  },
  {
   "cell_type": "code",
   "execution_count": 63,
   "id": "fe7015a1",
   "metadata": {
    "scrolled": true
   },
   "outputs": [
    {
     "data": {
      "text/plain": [
       "<AxesSubplot:xlabel='REVOKED', ylabel='Count'>"
      ]
     },
     "execution_count": 63,
     "metadata": {},
     "output_type": "execute_result"
    },
    {
     "data": {
      "image/png": "[encoded data removed]",
      "text/plain": [
       "<Figure size 432x288 with 1 Axes>"
      ]
     },
     "metadata": {
      "needs_background": "light"
     },
     "output_type": "display_data"
    }
   ],
   "source": [
    "sns.histplot(data = train_df, x='REVOKED')"
   ]
  },
  {
   "cell_type": "code",
   "execution_count": 64,
   "id": "b0e044e5",
   "metadata": {
    "scrolled": true
   },
   "outputs": [
    {
     "data": {
      "text/plain": [
       "<AxesSubplot:xlabel='REVOKED', ylabel='TARGET_FLAG'>"
      ]
     },
     "execution_count": 64,
     "metadata": {},
     "output_type": "execute_result"
    },
    {
     "data": {
      "image/png": "[encoded data removed]",
      "text/plain": [
       "<Figure size 432x288 with 1 Axes>"
      ]
     },
     "metadata": {
      "needs_background": "light"
     },
     "output_type": "display_data"
    }
   ],
   "source": [
    "sns.barplot(data = train_df, x='REVOKED',y='TARGET_FLAG')"
   ]
  },
  {
   "cell_type": "markdown",
   "id": "b653dccd",
   "metadata": {},
   "source": [
    "We notice a strong correlation. We make it binary : 'has_lost_license\""
   ]
  },
  {
   "cell_type": "markdown",
   "id": "f5496de0",
   "metadata": {},
   "source": [
    "#### URBANICITY"
   ]
  },
  {
   "cell_type": "code",
   "execution_count": 65,
   "id": "9753ee31",
   "metadata": {},
   "outputs": [
    {
     "data": {
      "text/plain": [
       "<AxesSubplot:xlabel='URBANICITY', ylabel='Count'>"
      ]
     },
     "execution_count": 65,
     "metadata": {},
     "output_type": "execute_result"
    },
    {
     "data": {
      "image/png": "[encoded data removed]",
      "text/plain": [
       "<Figure size 432x288 with 1 Axes>"
      ]
     },
     "metadata": {
      "needs_background": "light"
     },
     "output_type": "display_data"
    }
   ],
   "source": [
    "sns.histplot(data = train_df, x='URBANICITY')"
   ]
  },
  {
   "cell_type": "code",
   "execution_count": 66,
   "id": "8484e6ce",
   "metadata": {
    "scrolled": false
   },
   "outputs": [
    {
     "data": {
      "text/plain": [
       "<AxesSubplot:xlabel='URBANICITY', ylabel='TARGET_FLAG'>"
      ]
     },
     "execution_count": 66,
     "metadata": {},
     "output_type": "execute_result"
    },
    {
     "data": {
      "image/png": "[encoded data removed]",
      "text/plain": [
       "<Figure size 432x288 with 1 Axes>"
      ]
     },
     "metadata": {
      "needs_background": "light"
     },
     "output_type": "display_data"
    }
   ],
   "source": [
    "sns.barplot(data = train_df, x='URBANICITY',y='TARGET_FLAG')"
   ]
  },
  {
   "cell_type": "markdown",
   "id": "661968f8",
   "metadata": {},
   "source": [
    "We find a much lower risk in rural areas. We make it binary : \"is_urban\""
   ]
  },
  {
   "cell_type": "markdown",
   "id": "22e3a8c7",
   "metadata": {},
   "source": [
    "#### CAR_USE"
   ]
  },
  {
   "cell_type": "code",
   "execution_count": 67,
   "id": "eaf8318a",
   "metadata": {
    "scrolled": true
   },
   "outputs": [
    {
     "data": {
      "text/plain": [
       "<AxesSubplot:xlabel='CAR_USE', ylabel='Count'>"
      ]
     },
     "execution_count": 67,
     "metadata": {},
     "output_type": "execute_result"
    },
    {
     "data": {
      "image/png": "[encoded data removed]",
      "text/plain": [
       "<Figure size 432x288 with 1 Axes>"
      ]
     },
     "metadata": {
      "needs_background": "light"
     },
     "output_type": "display_data"
    }
   ],
   "source": [
    "sns.histplot(data = train_df, x='CAR_USE')"
   ]
  },
  {
   "cell_type": "code",
   "execution_count": 68,
   "id": "a28cd74d",
   "metadata": {
    "scrolled": false
   },
   "outputs": [
    {
     "data": {
      "text/plain": [
       "<AxesSubplot:xlabel='CAR_USE', ylabel='TARGET_FLAG'>"
      ]
     },
     "execution_count": 68,
     "metadata": {},
     "output_type": "execute_result"
    },
    {
     "data": {
      "image/png": "[encoded data removed]",
      "text/plain": [
       "<Figure size 432x288 with 1 Axes>"
      ]
     },
     "metadata": {
      "needs_background": "light"
     },
     "output_type": "display_data"
    }
   ],
   "source": [
    "sns.barplot(data = train_df, x='CAR_USE',y='TARGET_FLAG')"
   ]
  },
  {
   "cell_type": "markdown",
   "id": "5e93e5d1",
   "metadata": {},
   "source": [
    "Commercial has higher risk. We transform this in a binary 'is_commercial'"
   ]
  },
  {
   "cell_type": "markdown",
   "id": "6a232f16",
   "metadata": {},
   "source": [
    "# Apply the transforms chosen"
   ]
  },
  {
   "cell_type": "code",
   "execution_count": 69,
   "id": "6ad76b57",
   "metadata": {},
   "outputs": [],
   "source": [
    "train_df.HOMEKIDS = (train_df.HOMEKIDS>0).astype(int)\n",
    "test_df.HOMEKIDS = (test_df.HOMEKIDS>0).astype(int)\n",
    "train_df.rename(columns={\"HOMEKIDS\": \"has_kids\"},inplace = True)\n",
    "test_df.rename(columns={\"HOMEKIDS\": \"has_kids\"},inplace = True)"
   ]
  },
  {
   "cell_type": "code",
   "execution_count": 70,
   "id": "0358ec6f",
   "metadata": {},
   "outputs": [],
   "source": [
    "train_df.KIDSDRIV = (train_df.KIDSDRIV>0).astype(int)\n",
    "test_df.KIDSDRIV = (test_df.KIDSDRIV>0).astype(int)\n",
    "train_df.rename(columns={\"KIDSDRIV\": \"has_driving_kid\"},inplace = True)\n",
    "test_df.rename(columns={\"KIDSDRIV\": \"has_driving_kid\"},inplace = True)"
   ]
  },
  {
   "cell_type": "code",
   "execution_count": 71,
   "id": "41c5d65b",
   "metadata": {
    "scrolled": false
   },
   "outputs": [],
   "source": [
    "train_df.CLM_FREQ = (train_df.CLM_FREQ>0).astype(int)\n",
    "test_df.CLM_FREQ = (test_df.CLM_FREQ>0).astype(int)\n",
    "train_df.rename(columns={\"CLM_FREQ\": \"has_claim\"},inplace = True)\n",
    "test_df.rename(columns={\"CLM_FREQ\": \"has_claim\"},inplace = True)"
   ]
  },
  {
   "cell_type": "code",
   "execution_count": 72,
   "id": "b3027aed",
   "metadata": {
    "scrolled": true
   },
   "outputs": [],
   "source": [
    "train_df.OLDCLAIM = (train_df.OLDCLAIM>0).astype(int)\n",
    "test_df.OLDCLAIM = (test_df.OLDCLAIM>0).astype(int)\n",
    "train_df.rename(columns={\"OLDCLAIM\": \"has_positive_old_claim\"},inplace = True)\n",
    "test_df.rename(columns={\"OLDCLAIM\": \"has_positive_old_claim\"},inplace = True)"
   ]
  },
  {
   "cell_type": "code",
   "execution_count": 73,
   "id": "7448f906",
   "metadata": {
    "scrolled": true
   },
   "outputs": [],
   "source": [
    "train_df.INCOME = (train_df.INCOME>0).astype(int)\n",
    "test_df.INCOME = (test_df.INCOME>0).astype(int)\n",
    "train_df.rename(columns={\"INCOME\": \"has_positive_income\"},inplace = True)\n",
    "test_df.rename(columns={\"INCOME\": \"has_positive_income\"},inplace = True)"
   ]
  },
  {
   "cell_type": "code",
   "execution_count": 74,
   "id": "cd7c6507",
   "metadata": {
    "scrolled": true
   },
   "outputs": [],
   "source": [
    "train_df.HOME_VAL = (train_df.HOME_VAL>0).astype(int)\n",
    "test_df.HOME_VAL = (test_df.HOME_VAL>0).astype(int)\n",
    "train_df.rename(columns={\"HOME_VAL\": \"has_home\"},inplace = True)\n",
    "test_df.rename(columns={\"HOME_VAL\": \"has_home\"},inplace = True)"
   ]
  },
  {
   "cell_type": "code",
   "execution_count": 75,
   "id": "ad55fd59",
   "metadata": {
    "scrolled": true
   },
   "outputs": [],
   "source": [
    "train_df.BLUEBOOK = np.log(train_df.BLUEBOOK+1)\n",
    "test_df.BLUEBOOK = np.log(test_df.BLUEBOOK+1)"
   ]
  },
  {
   "cell_type": "code",
   "execution_count": 76,
   "id": "a3428708",
   "metadata": {},
   "outputs": [],
   "source": [
    "def build_age(age): #we replace the missing age by the mean\n",
    "    if pd.isna(age) or (age >=30 and age<=55) :\n",
    "        age = 1\n",
    "    else:\n",
    "        age = 0 if age<30 else 2\n",
    "    return age\n",
    "train_df.AGE = train_df.AGE.apply(build_age)\n",
    "test_df.AGE = test_df.AGE.apply(build_age)"
   ]
  },
  {
   "cell_type": "code",
   "execution_count": 77,
   "id": "4d611de1",
   "metadata": {
    "scrolled": true
   },
   "outputs": [],
   "source": [
    "train_df.YOJ = (train_df.YOJ == 0).astype(int)\n",
    "test_df.YOJ = (test_df.YOJ == 0).astype(int)\n",
    "train_df.rename(columns={\"YOJ\": \"is_YOJ_0\"},inplace = True)\n",
    "test_df.rename(columns={\"YOJ\": \"is_YOJ_0\"},inplace = True)"
   ]
  },
  {
   "cell_type": "code",
   "execution_count": 78,
   "id": "a662e61d",
   "metadata": {},
   "outputs": [],
   "source": [
    "train_df.TRAVTIME = np.log(train_df.TRAVTIME)\n",
    "test_df.TRAVTIME = np.log(test_df.TRAVTIME)"
   ]
  },
  {
   "cell_type": "code",
   "execution_count": 79,
   "id": "a2a39444",
   "metadata": {
    "scrolled": true
   },
   "outputs": [],
   "source": [
    "train_df.TIF = (train_df.TIF == 1).astype(int)\n",
    "test_df.TIF = (test_df.TIF == 1).astype(int)\n",
    "train_df.rename(columns={\"TIF\": \"is_TIF_1\"},inplace = True)\n",
    "test_df.rename(columns={\"TIF\": \"is_TIF_1\"},inplace = True)"
   ]
  },
  {
   "cell_type": "code",
   "execution_count": 80,
   "id": "7d77457f",
   "metadata": {},
   "outputs": [],
   "source": [
    "def cap_at_10(mvr):\n",
    "    return mvr if mvr<=10 else 10\n",
    "train_df.MVR_PTS = train_df.MVR_PTS.apply(cap_at_10)\n",
    "test_df.MVR_PTS = test_df.MVR_PTS.apply(cap_at_10)"
   ]
  },
  {
   "cell_type": "code",
   "execution_count": 81,
   "id": "b5dd626b",
   "metadata": {},
   "outputs": [],
   "source": [
    "train_df.PARENT1 = train_df.PARENT1.map({'No':0,'Yes':1})\n",
    "test_df.PARENT1 = test_df.PARENT1.map({'No':0,'Yes':1})\n",
    "train_df.rename(columns = {'PARENT1' : 'is_single_parent'}, inplace = True)\n",
    "test_df.rename(columns = {'PARENT1' : 'is_single_parent'}, inplace = True)"
   ]
  },
  {
   "cell_type": "code",
   "execution_count": 82,
   "id": "ebddc79d",
   "metadata": {},
   "outputs": [],
   "source": [
    "train_df.MSTATUS = train_df.MSTATUS.map({'z_No':0,'Yes':1})\n",
    "test_df.MSTATUS = test_df.MSTATUS.map({'z_No':0,'Yes':1})\n",
    "train_df.rename(columns = {'MSTATUS' : 'is_married'}, inplace = True)\n",
    "test_df.rename(columns = {'MSTATUS' : 'is_married'}, inplace = True)"
   ]
  },
  {
   "cell_type": "code",
   "execution_count": 83,
   "id": "9bcba966",
   "metadata": {},
   "outputs": [],
   "source": [
    "train_df.SEX = train_df.SEX.map({'z_F':0,'M':1})\n",
    "test_df.SEX = test_df.SEX.map({'z_F':0,'M':1})\n",
    "train_df.rename(columns = {'SEX' : 'is_male'}, inplace = True)\n",
    "test_df.rename(columns = {'SEX' : 'is_male'}, inplace = True)"
   ]
  },
  {
   "cell_type": "code",
   "execution_count": 84,
   "id": "bcbed6af",
   "metadata": {},
   "outputs": [],
   "source": [
    "train_df.EDUCATION = train_df.EDUCATION.map({'High School':0,'PhD':1,'Bachelors':1,'Masters':1})\n",
    "test_df.EDUCATION = test_df.EDUCATION.map({'High School':0,'PhD':1,'Bachelors':1,'Masters':1})\n",
    "train_df.rename(columns = {'EDUCATION' : 'has_higher_education'}, inplace = True)\n",
    "test_df.rename(columns = {'EDUCATION' : 'has_higher_education'}, inplace = True)"
   ]
  },
  {
   "cell_type": "code",
   "execution_count": 85,
   "id": "4ae29c8f",
   "metadata": {},
   "outputs": [],
   "source": [
    "mapping = {'Professional': 'other',\n",
    " 'z_Blue Collar': 'low_rank',\n",
    " 'Clerical': 'other',\n",
    " 'Doctor': 'highest_rank',\n",
    " 'Lawyer': 'highest_rank',\n",
    " 'Manager': 'highest_rank',\n",
    " 'Home Maker': 'other',\n",
    " 'Student': 'low_rank'}\n",
    "train_df.JOB = train_df.JOB.map(mapping)\n",
    "test_df.JOB = test_df.JOB.map(mapping)"
   ]
  },
  {
   "cell_type": "code",
   "execution_count": 86,
   "id": "10642dd0",
   "metadata": {},
   "outputs": [],
   "source": [
    "mapping = {'Minivan': 1,\n",
    " 'z_SUV': 0,\n",
    " 'Sports Car': 0,\n",
    " 'Van': 0,\n",
    " 'Panel Truck': 0,\n",
    " 'Pickup': 0}\n",
    "train_df.CAR_TYPE = train_df.CAR_TYPE.map(mapping)\n",
    "test_df.CAR_TYPE = test_df.CAR_TYPE.map(mapping)\n",
    "train_df.rename(columns = {'CAR_TYPE' : 'is_minivan'}, inplace = True)\n",
    "test_df.rename(columns = {'CAR_TYPE' : 'is_minivan'}, inplace = True)"
   ]
  },
  {
   "cell_type": "code",
   "execution_count": 87,
   "id": "4f72addc",
   "metadata": {},
   "outputs": [],
   "source": [
    "train_df = train_df.drop([\"RED_CAR\"],axis = 1)\n",
    "test_df = test_df.drop([\"RED_CAR\"],axis = 1)"
   ]
  },
  {
   "cell_type": "code",
   "execution_count": 88,
   "id": "908ce8a1",
   "metadata": {},
   "outputs": [],
   "source": [
    "train_df.REVOKED = train_df.REVOKED.map({'No':0,'Yes':1})\n",
    "test_df.REVOKED = test_df.REVOKED.map({'No':0,'Yes':1})\n",
    "train_df.rename(columns = {'REVOKED' : 'has_lost_license'}, inplace = True)\n",
    "test_df.rename(columns = {'REVOKED' : 'has_lost_license'}, inplace = True)"
   ]
  },
  {
   "cell_type": "code",
   "execution_count": 89,
   "id": "df190d49",
   "metadata": {},
   "outputs": [
    {
     "data": {
      "text/plain": [
       "array(['Highly Urban/ Urban', 'z_Highly Rural/ Rural'], dtype=object)"
      ]
     },
     "execution_count": 89,
     "metadata": {},
     "output_type": "execute_result"
    }
   ],
   "source": [
    "train_df.URBANICITY.unique()"
   ]
  },
  {
   "cell_type": "code",
   "execution_count": 90,
   "id": "9aa434c6",
   "metadata": {
    "scrolled": false
   },
   "outputs": [],
   "source": [
    "train_df.URBANICITY = train_df.URBANICITY.map({'z_Highly Rural/ Rural':0,'Highly Urban/ Urban':1})\n",
    "test_df.URBANICITY = test_df.URBANICITY.map({'z_Highly Rural/ Rural':0,'Highly Urban/ Urban':1})\n",
    "train_df.rename(columns = {'URBANICITY' : 'is_urban'}, inplace = True)\n",
    "test_df.rename(columns = {'URBANICITY' : 'is_urban'}, inplace = True)"
   ]
  },
  {
   "cell_type": "code",
   "execution_count": 91,
   "id": "83046679",
   "metadata": {},
   "outputs": [],
   "source": [
    "train_df.CAR_USE = train_df.CAR_USE.map({'Private':0,'Commercial':1})\n",
    "test_df.CAR_USE = test_df.CAR_USE.map({'Private':0,'Commercial':1})\n",
    "train_df.rename(columns = {'CAR_USE' : 'is_commercial'}, inplace = True)\n",
    "test_df.rename(columns = {'CAR_USE' : 'is_commercial'}, inplace = True)"
   ]
  },
  {
   "cell_type": "markdown",
   "id": "31831769",
   "metadata": {},
   "source": [
    "# Find correlation between variables"
   ]
  },
  {
   "cell_type": "code",
   "execution_count": 92,
   "id": "283f47f4",
   "metadata": {},
   "outputs": [
    {
     "name": "stdout",
     "output_type": "stream",
     "text": [
      "<class 'pandas.core.frame.DataFrame'>\n",
      "RangeIndex: 8161 entries, 0 to 8160\n",
      "Data columns (total 23 columns):\n",
      " #   Column                  Non-Null Count  Dtype  \n",
      "---  ------                  --------------  -----  \n",
      " 0   TARGET_FLAG             8161 non-null   int64  \n",
      " 1   has_driving_kid         8161 non-null   int32  \n",
      " 2   AGE                     8161 non-null   int64  \n",
      " 3   has_kids                8161 non-null   int32  \n",
      " 4   is_YOJ_0                8161 non-null   int32  \n",
      " 5   has_positive_income     8161 non-null   int32  \n",
      " 6   is_single_parent        8161 non-null   int64  \n",
      " 7   has_home                8161 non-null   int32  \n",
      " 8   is_married              8161 non-null   int64  \n",
      " 9   is_male                 8161 non-null   int64  \n",
      " 10  has_higher_education    8161 non-null   int64  \n",
      " 11  JOB                     7635 non-null   object \n",
      " 12  TRAVTIME                8161 non-null   float64\n",
      " 13  is_commercial           8161 non-null   int64  \n",
      " 14  BLUEBOOK                8161 non-null   float64\n",
      " 15  is_TIF_1                8161 non-null   int32  \n",
      " 16  is_minivan              8161 non-null   int64  \n",
      " 17  has_positive_old_claim  8161 non-null   int32  \n",
      " 18  has_claim               8161 non-null   int32  \n",
      " 19  has_lost_license        8161 non-null   int64  \n",
      " 20  MVR_PTS                 8161 non-null   int64  \n",
      " 21  CAR_AGE                 7651 non-null   float64\n",
      " 22  is_urban                8161 non-null   int64  \n",
      "dtypes: float64(3), int32(8), int64(11), object(1)\n",
      "memory usage: 1.2+ MB\n"
     ]
    }
   ],
   "source": [
    "train_df.info()"
   ]
  },
  {
   "cell_type": "code",
   "execution_count": 93,
   "id": "7d532282",
   "metadata": {
    "scrolled": true
   },
   "outputs": [
    {
     "data": {
      "image/png": "[encoded data removed]",
      "text/plain": [
       "<Figure size 864x648 with 2 Axes>"
      ]
     },
     "metadata": {
      "needs_background": "light"
     },
     "output_type": "display_data"
    }
   ],
   "source": [
    "corrmat = train_df.corr(method='spearman')\n",
    "f, ax = plt.subplots(figsize=(12, 9))\n",
    "sns.heatmap(corrmat, vmax=.8, square=True);"
   ]
  },
  {
   "cell_type": "markdown",
   "id": "1fe7fc74",
   "metadata": {},
   "source": [
    "We notice that has_positive_old_claim is perfectly correlatied to has_claim. We remove has_positive_old_claim\n",
    "\n",
    "We notice a strong correlation between has_higher_education and CAR_AGE. We can use this information to impute missing data\n",
    "\n",
    "We find some expected correlations between has_home and is_married or has_kids and is_single_parent or has_kids and has_driving_kids"
   ]
  },
  {
   "cell_type": "code",
   "execution_count": 94,
   "id": "41cd6be4",
   "metadata": {},
   "outputs": [],
   "source": [
    "train_df = train_df.drop(['has_positive_old_claim'],axis = 1)\n",
    "test_df = test_df.drop(['has_positive_old_claim'],axis = 1)"
   ]
  },
  {
   "cell_type": "markdown",
   "id": "c7ab27ac",
   "metadata": {},
   "source": [
    "We expect the variable JOB to be correlated to has_higher_education"
   ]
  },
  {
   "cell_type": "code",
   "execution_count": 95,
   "id": "89c58ed2",
   "metadata": {
    "scrolled": false
   },
   "outputs": [
    {
     "data": {
      "text/plain": [
       "<seaborn.axisgrid.FacetGrid at 0x1edae5275e0>"
      ]
     },
     "execution_count": 95,
     "metadata": {},
     "output_type": "execute_result"
    },
    {
     "data": {
      "image/png": "[encoded data removed]",
      "text/plain": [
       "<Figure size 216x648 with 3 Axes>"
      ]
     },
     "metadata": {
      "needs_background": "light"
     },
     "output_type": "display_data"
    }
   ],
   "source": [
    "g = sns.FacetGrid(data = train_df, row = 'JOB')\n",
    "g.map(sns.histplot,'has_higher_education')"
   ]
  },
  {
   "cell_type": "markdown",
   "id": "9801b4c7",
   "metadata": {},
   "source": [
    "We notice a correlation as expected"
   ]
  },
  {
   "cell_type": "markdown",
   "id": "f6d0d066",
   "metadata": {},
   "source": [
    "# Fill missing values"
   ]
  },
  {
   "cell_type": "code",
   "execution_count": 96,
   "id": "4d71dcff",
   "metadata": {
    "scrolled": true
   },
   "outputs": [
    {
     "name": "stdout",
     "output_type": "stream",
     "text": [
      "<class 'pandas.core.frame.DataFrame'>\n",
      "RangeIndex: 8161 entries, 0 to 8160\n",
      "Data columns (total 22 columns):\n",
      " #   Column                Non-Null Count  Dtype  \n",
      "---  ------                --------------  -----  \n",
      " 0   TARGET_FLAG           8161 non-null   int64  \n",
      " 1   has_driving_kid       8161 non-null   int32  \n",
      " 2   AGE                   8161 non-null   int64  \n",
      " 3   has_kids              8161 non-null   int32  \n",
      " 4   is_YOJ_0              8161 non-null   int32  \n",
      " 5   has_positive_income   8161 non-null   int32  \n",
      " 6   is_single_parent      8161 non-null   int64  \n",
      " 7   has_home              8161 non-null   int32  \n",
      " 8   is_married            8161 non-null   int64  \n",
      " 9   is_male               8161 non-null   int64  \n",
      " 10  has_higher_education  8161 non-null   int64  \n",
      " 11  JOB                   7635 non-null   object \n",
      " 12  TRAVTIME              8161 non-null   float64\n",
      " 13  is_commercial         8161 non-null   int64  \n",
      " 14  BLUEBOOK              8161 non-null   float64\n",
      " 15  is_TIF_1              8161 non-null   int32  \n",
      " 16  is_minivan            8161 non-null   int64  \n",
      " 17  has_claim             8161 non-null   int32  \n",
      " 18  has_lost_license      8161 non-null   int64  \n",
      " 19  MVR_PTS               8161 non-null   int64  \n",
      " 20  CAR_AGE               7651 non-null   float64\n",
      " 21  is_urban              8161 non-null   int64  \n",
      "dtypes: float64(3), int32(7), int64(11), object(1)\n",
      "memory usage: 1.2+ MB\n"
     ]
    }
   ],
   "source": [
    "train_df.info()"
   ]
  },
  {
   "cell_type": "code",
   "execution_count": 97,
   "id": "d6df9098",
   "metadata": {},
   "outputs": [],
   "source": [
    "most_frequent_job = train_df.JOB.mode()[0]\n",
    "train_df.JOB = train_df.JOB.fillna(most_frequent_job)\n",
    "test_df.JOB = test_df.JOB.fillna(most_frequent_job)\n",
    "\n",
    "car_age_no_ed = train_df.loc[train_df.has_higher_education == 0, 'CAR_AGE'].median()\n",
    "car_age_ed = train_df.loc[train_df.has_higher_education == 1, 'CAR_AGE'].median()\n",
    "\n",
    "#We use the corr between has_higher_education and car_age\n",
    "train_df.loc[(train_df.CAR_AGE.isna()) & (train_df.has_higher_education == 0), 'CAR_AGE'] = train_df.loc[(train_df.CAR_AGE.isna()) & (train_df.has_higher_education == 0), 'CAR_AGE'].fillna(car_age_no_ed)\n",
    "test_df.loc[(test_df.CAR_AGE.isna()) & (test_df.has_higher_education == 0), 'CAR_AGE'] = test_df.loc[(test_df.CAR_AGE.isna()) & (train_df.has_higher_education == 0), 'CAR_AGE'].fillna(car_age_no_ed)\n",
    "\n",
    "train_df.loc[(train_df.CAR_AGE.isna()) & (train_df.has_higher_education == 1), 'CAR_AGE'] = train_df.loc[(train_df.CAR_AGE.isna()) & (train_df.has_higher_education == 1), 'CAR_AGE'].fillna(car_age_ed)\n",
    "test_df.loc[(test_df.CAR_AGE.isna()) & (test_df.has_higher_education == 1), 'CAR_AGE'] = test_df.loc[(test_df.CAR_AGE.isna()) & (train_df.has_higher_education == 1), 'CAR_AGE'].fillna(car_age_ed)"
   ]
  },
  {
   "cell_type": "code",
   "execution_count": 98,
   "id": "05f5250c",
   "metadata": {
    "scrolled": true
   },
   "outputs": [
    {
     "name": "stdout",
     "output_type": "stream",
     "text": [
      "<class 'pandas.core.frame.DataFrame'>\n",
      "RangeIndex: 8161 entries, 0 to 8160\n",
      "Data columns (total 22 columns):\n",
      " #   Column                Non-Null Count  Dtype  \n",
      "---  ------                --------------  -----  \n",
      " 0   TARGET_FLAG           8161 non-null   int64  \n",
      " 1   has_driving_kid       8161 non-null   int32  \n",
      " 2   AGE                   8161 non-null   int64  \n",
      " 3   has_kids              8161 non-null   int32  \n",
      " 4   is_YOJ_0              8161 non-null   int32  \n",
      " 5   has_positive_income   8161 non-null   int32  \n",
      " 6   is_single_parent      8161 non-null   int64  \n",
      " 7   has_home              8161 non-null   int32  \n",
      " 8   is_married            8161 non-null   int64  \n",
      " 9   is_male               8161 non-null   int64  \n",
      " 10  has_higher_education  8161 non-null   int64  \n",
      " 11  JOB                   8161 non-null   object \n",
      " 12  TRAVTIME              8161 non-null   float64\n",
      " 13  is_commercial         8161 non-null   int64  \n",
      " 14  BLUEBOOK              8161 non-null   float64\n",
      " 15  is_TIF_1              8161 non-null   int32  \n",
      " 16  is_minivan            8161 non-null   int64  \n",
      " 17  has_claim             8161 non-null   int32  \n",
      " 18  has_lost_license      8161 non-null   int64  \n",
      " 19  MVR_PTS               8161 non-null   int64  \n",
      " 20  CAR_AGE               8161 non-null   float64\n",
      " 21  is_urban              8161 non-null   int64  \n",
      "dtypes: float64(3), int32(7), int64(11), object(1)\n",
      "memory usage: 1.2+ MB\n"
     ]
    }
   ],
   "source": [
    "train_df.info()"
   ]
  },
  {
   "cell_type": "markdown",
   "id": "4ddf0875",
   "metadata": {},
   "source": [
    "# Preparing the data for training"
   ]
  },
  {
   "cell_type": "code",
   "execution_count": 99,
   "id": "9f49ef19",
   "metadata": {
    "scrolled": true
   },
   "outputs": [
    {
     "data": {
      "text/plain": [
       "<AxesSubplot:xlabel='TARGET_FLAG', ylabel='Count'>"
      ]
     },
     "execution_count": 99,
     "metadata": {},
     "output_type": "execute_result"
    },
    {
     "data": {
      "image/png": "[encoded data removed]",
      "text/plain": [
       "<Figure size 432x288 with 1 Axes>"
      ]
     },
     "metadata": {
      "needs_background": "light"
     },
     "output_type": "display_data"
    }
   ],
   "source": [
    "sns.histplot(data = train_df, x=train_df.TARGET_FLAG)"
   ]
  },
  {
   "cell_type": "markdown",
   "id": "fcf95b4f",
   "metadata": {},
   "source": [
    "Our dataset is unbalanced. We will use the f1 score to compare our models beacause accuracy could be misleading : a model only outputing 0 will have a decent score"
   ]
  },
  {
   "cell_type": "code",
   "execution_count": 100,
   "id": "5789e9ea",
   "metadata": {},
   "outputs": [
    {
     "data": {
      "text/plain": [
       "Index(['TARGET_FLAG', 'has_driving_kid', 'AGE', 'has_kids', 'is_YOJ_0',\n",
       "       'has_positive_income', 'is_single_parent', 'has_home', 'is_married',\n",
       "       'is_male', 'has_higher_education', 'JOB', 'TRAVTIME', 'is_commercial',\n",
       "       'BLUEBOOK', 'is_TIF_1', 'is_minivan', 'has_claim', 'has_lost_license',\n",
       "       'MVR_PTS', 'CAR_AGE', 'is_urban'],\n",
       "      dtype='object')"
      ]
     },
     "execution_count": 100,
     "metadata": {},
     "output_type": "execute_result"
    }
   ],
   "source": [
    "test_df.columns"
   ]
  },
  {
   "cell_type": "code",
   "execution_count": 101,
   "id": "4467f04e",
   "metadata": {},
   "outputs": [],
   "source": [
    "train_x = train_df.drop(columns = ['TARGET_FLAG'],axis=1)\n",
    "train_y = train_df.TARGET_FLAG\n",
    "test_x = test_df.drop(columns = ['TARGET_FLAG'],axis=1)\n",
    "\n",
    "train_x = pd.get_dummies(train_x)\n",
    "test_x = pd.get_dummies(test_x)\n",
    "\n",
    "normalizer = Normalizer().fit(train_x)\n",
    "train_x=normalizer.transform(train_x)\n",
    "test_x=normalizer.transform(test_x)"
   ]
  },
  {
   "cell_type": "markdown",
   "id": "be8042fe",
   "metadata": {},
   "source": [
    "# Finding the best model"
   ]
  },
  {
   "cell_type": "markdown",
   "id": "3cca938c",
   "metadata": {},
   "source": [
    "### Logistic regression"
   ]
  },
  {
   "cell_type": "code",
   "execution_count": 102,
   "id": "92bfb954",
   "metadata": {},
   "outputs": [
    {
     "name": "stdout",
     "output_type": "stream",
     "text": [
      "0.34857789666533756\n"
     ]
    }
   ],
   "source": [
    "logreg = LogisticRegression(max_iter =1000)\n",
    "scores = cross_val_score(logreg, train_x, train_y, cv=5,scoring='f1')\n",
    "print(scores.mean())"
   ]
  },
  {
   "cell_type": "code",
   "execution_count": 103,
   "id": "52044c6e",
   "metadata": {
    "scrolled": false
   },
   "outputs": [
    {
     "name": "stdout",
     "output_type": "stream",
     "text": [
      "                       0      Score\n",
      "0        has_driving_kid   2.684026\n",
      "1                    AGE   1.010715\n",
      "2               has_kids   2.552010\n",
      "3               is_YOJ_0   1.623482\n",
      "4    has_positive_income  -1.176824\n",
      "5       is_single_parent   2.567776\n",
      "6               has_home  -2.590921\n",
      "7             is_married  -4.256325\n",
      "8                is_male  -0.344763\n",
      "9   has_higher_education  -3.186827\n",
      "10                   JOB   2.897659\n",
      "11              TRAVTIME   4.615719\n",
      "12         is_commercial  -2.479610\n",
      "13              BLUEBOOK   2.768988\n",
      "14              is_TIF_1  -4.543487\n",
      "15            is_minivan   4.728442\n",
      "16             has_claim   5.123225\n",
      "17      has_lost_license   1.918994\n",
      "18               MVR_PTS  -0.287969\n",
      "19               CAR_AGE  11.603586\n",
      "20              is_urban  -3.521219\n"
     ]
    }
   ],
   "source": [
    "logreg.fit(train_x,train_y)\n",
    "features_importance = pd.DataFrame(train_df.drop(columns = ['TARGET_FLAG'],axis=1).columns)\n",
    "features_importance['Score'] = pd.Series(logreg.coef_[0])\n",
    "print(features_importance)"
   ]
  },
  {
   "cell_type": "markdown",
   "id": "632d0bf7",
   "metadata": {},
   "source": [
    "It's interesting to look at which feature influences the score the most. We find the same correlations we identified in our data exploration : being urban or having lost our licence greatly increases risk while driving a minivan decreases it for instance."
   ]
  },
  {
   "cell_type": "code",
   "execution_count": 104,
   "id": "c0d73f09",
   "metadata": {
    "scrolled": true
   },
   "outputs": [
    {
     "data": {
      "text/plain": [
       "<sklearn.metrics._plot.confusion_matrix.ConfusionMatrixDisplay at 0x1edaea9f100>"
      ]
     },
     "execution_count": 104,
     "metadata": {},
     "output_type": "execute_result"
    },
    {
     "data": {
      "image/png": "[encoded data removed]",
      "text/plain": [
       "<Figure size 432x288 with 2 Axes>"
      ]
     },
     "metadata": {
      "needs_background": "light"
     },
     "output_type": "display_data"
    }
   ],
   "source": [
    "ConfusionMatrixDisplay.from_estimator(logreg, train_x, train_y)"
   ]
  },
  {
   "cell_type": "markdown",
   "id": "caf91706",
   "metadata": {},
   "source": [
    "We notice we have a lot of false negative. Our sensitivity is only 0.4 Considering that the train_dataset has more negative than positive, ths behaviour can be expected. We undersample our dataset to balance the classes"
   ]
  },
  {
   "cell_type": "code",
   "execution_count": 105,
   "id": "5819d999",
   "metadata": {},
   "outputs": [],
   "source": [
    "sample_size = sum(train_df.TARGET_FLAG == 1)\n",
    "neg_indices = train_df.loc[train_df.TARGET_FLAG == 0].index\n",
    "random_neg_indices = np.random.choice(neg_indices, sample_size, replace=False)\n",
    "\n",
    "train_undersampled = pd.concat([train_df.loc[train_df.TARGET_FLAG == 1],train_df.loc[random_neg_indices]])\n",
    "train_undersampled=train_undersampled.sample(frac=1) #shuffle the new dataset"
   ]
  },
  {
   "cell_type": "code",
   "execution_count": 106,
   "id": "c4a6b402",
   "metadata": {
    "scrolled": false
   },
   "outputs": [
    {
     "data": {
      "text/plain": [
       "TARGET_FLAG\n",
       "0    2153\n",
       "1    2153\n",
       "Name: has_driving_kid, dtype: int64"
      ]
     },
     "execution_count": 106,
     "metadata": {},
     "output_type": "execute_result"
    }
   ],
   "source": [
    "train_undersampled.groupby('TARGET_FLAG').count().iloc[:,0]"
   ]
  },
  {
   "cell_type": "code",
   "execution_count": 107,
   "id": "31bb8fbd",
   "metadata": {},
   "outputs": [],
   "source": [
    "train_undersampled_x = train_undersampled.drop(columns = ['TARGET_FLAG'],axis=1)\n",
    "train_undersampled_y = train_undersampled.TARGET_FLAG\n",
    "\n",
    "train_undersampled_x = pd.get_dummies(train_undersampled_x)\n",
    "\n",
    "normalizer = Normalizer().fit(train_undersampled_x)\n",
    "train_undersampled_x=normalizer.transform(train_undersampled_x)"
   ]
  },
  {
   "cell_type": "code",
   "execution_count": 108,
   "id": "3a376fc3",
   "metadata": {},
   "outputs": [
    {
     "name": "stdout",
     "output_type": "stream",
     "text": [
      "0.6923577188924085\n"
     ]
    },
    {
     "data": {
      "text/plain": [
       "LogisticRegression(max_iter=1000)"
      ]
     },
     "execution_count": 108,
     "metadata": {},
     "output_type": "execute_result"
    }
   ],
   "source": [
    "logreg = LogisticRegression(max_iter =1000)\n",
    "scores = cross_val_score(logreg, train_undersampled_x, train_undersampled_y, cv=5,scoring='f1')\n",
    "print(scores.mean())\n",
    "logreg.fit(train_undersampled_x, train_undersampled_y)"
   ]
  },
  {
   "cell_type": "markdown",
   "id": "ea7be8ec",
   "metadata": {},
   "source": [
    "We increased our score"
   ]
  },
  {
   "cell_type": "code",
   "execution_count": 109,
   "id": "4e9d0c84",
   "metadata": {},
   "outputs": [
    {
     "data": {
      "text/plain": [
       "<sklearn.metrics._plot.confusion_matrix.ConfusionMatrixDisplay at 0x1edafe87970>"
      ]
     },
     "execution_count": 109,
     "metadata": {},
     "output_type": "execute_result"
    },
    {
     "data": {
      "image/png": "[encoded data removed]",
      "text/plain": [
       "<Figure size 432x288 with 2 Axes>"
      ]
     },
     "metadata": {
      "needs_background": "light"
     },
     "output_type": "display_data"
    }
   ],
   "source": [
    "ConfusionMatrixDisplay.from_estimator(logreg, train_undersampled_x, train_undersampled_y)"
   ]
  },
  {
   "cell_type": "markdown",
   "id": "911ec1e8",
   "metadata": {},
   "source": [
    "We increased the sensitivity going from 0.4 to 0.68"
   ]
  },
  {
   "cell_type": "markdown",
   "id": "ad0efdd4",
   "metadata": {},
   "source": [
    "### KNN"
   ]
  },
  {
   "cell_type": "markdown",
   "id": "c3515df7",
   "metadata": {},
   "source": [
    "We find the best parameter for KNN with grid search and cross validation"
   ]
  },
  {
   "cell_type": "code",
   "execution_count": 110,
   "id": "8ac1a36d",
   "metadata": {
    "scrolled": true
   },
   "outputs": [
    {
     "data": {
      "text/plain": [
       "0.434762308824401"
      ]
     },
     "execution_count": 110,
     "metadata": {},
     "output_type": "execute_result"
    }
   ],
   "source": [
    "parameters = {\"n_neighbors\":[i for i in range(1,10)]}\n",
    "knn = KNeighborsClassifier()\n",
    "clf = GridSearchCV(knn, parameters,scoring='f1')\n",
    "clf.fit(train_x, train_y)\n",
    "max(clf.cv_results_[\"mean_test_score\"])"
   ]
  },
  {
   "cell_type": "markdown",
   "id": "9a54eb62",
   "metadata": {},
   "source": [
    "Undersampling"
   ]
  },
  {
   "cell_type": "code",
   "execution_count": 111,
   "id": "f90ebc7f",
   "metadata": {},
   "outputs": [
    {
     "data": {
      "text/plain": [
       "0.6790520978476037"
      ]
     },
     "execution_count": 111,
     "metadata": {},
     "output_type": "execute_result"
    }
   ],
   "source": [
    "parameters = {\"n_neighbors\":[i for i in range(1,10)]}\n",
    "knn = KNeighborsClassifier()\n",
    "clf = GridSearchCV(knn, parameters,scoring='f1')\n",
    "clf.fit(train_undersampled_x, train_undersampled_y)\n",
    "max(clf.cv_results_[\"mean_test_score\"])"
   ]
  },
  {
   "cell_type": "markdown",
   "id": "d0a596d5",
   "metadata": {},
   "source": [
    "One again the better score is obtained with undersampling. Performance is slightly lower than logistic regression"
   ]
  },
  {
   "cell_type": "markdown",
   "id": "007a4b2d",
   "metadata": {},
   "source": [
    "### SVC"
   ]
  },
  {
   "cell_type": "code",
   "execution_count": 112,
   "id": "53fa179e",
   "metadata": {},
   "outputs": [
    {
     "data": {
      "text/plain": [
       "0.408999368601921"
      ]
     },
     "execution_count": 112,
     "metadata": {},
     "output_type": "execute_result"
    }
   ],
   "source": [
    "parameters = {'kernel':('linear', 'rbf'), 'C':[1, 3,5,10]}\n",
    "svc = SVC()\n",
    "clf = GridSearchCV(svc, parameters,scoring='f1')\n",
    "clf.fit(train_x, train_y)\n",
    "max(clf.cv_results_[\"mean_test_score\"])"
   ]
  },
  {
   "cell_type": "code",
   "execution_count": 113,
   "id": "892d6037",
   "metadata": {},
   "outputs": [
    {
     "data": {
      "text/plain": [
       "0.7387363897850014"
      ]
     },
     "execution_count": 113,
     "metadata": {},
     "output_type": "execute_result"
    }
   ],
   "source": [
    "parameters = {'kernel':('linear', 'rbf'), 'C':[1, 3,5,10]}\n",
    "svc = SVC()\n",
    "clf = GridSearchCV(svc, parameters,scoring='f1')\n",
    "clf.fit(train_undersampled_x, train_undersampled_y)\n",
    "max(clf.cv_results_[\"mean_test_score\"])"
   ]
  },
  {
   "cell_type": "code",
   "execution_count": 114,
   "id": "5bd20a51",
   "metadata": {
    "scrolled": true
   },
   "outputs": [
    {
     "data": {
      "text/plain": [
       "{'C': 10, 'kernel': 'rbf'}"
      ]
     },
     "execution_count": 114,
     "metadata": {},
     "output_type": "execute_result"
    }
   ],
   "source": [
    "clf.best_params_"
   ]
  },
  {
   "cell_type": "markdown",
   "id": "aa7f0c11",
   "metadata": {},
   "source": [
    "We increased performance using SVC"
   ]
  },
  {
   "cell_type": "markdown",
   "id": "98a340be",
   "metadata": {},
   "source": [
    "### Random Forest"
   ]
  },
  {
   "cell_type": "markdown",
   "id": "9385b27c",
   "metadata": {},
   "source": [
    "Random forest don't need normalization to function. We use a non normalized dataset"
   ]
  },
  {
   "cell_type": "code",
   "execution_count": 115,
   "id": "f2a5a5d3",
   "metadata": {},
   "outputs": [],
   "source": [
    "train_x = train_df.drop(columns = ['TARGET_FLAG'],axis=1)\n",
    "train_x = pd.get_dummies(train_x)\n",
    "train_undersampled_x = train_undersampled.drop(columns = ['TARGET_FLAG'],axis=1)\n",
    "train_undersampled_y = train_undersampled.TARGET_FLAG\n",
    "\n",
    "train_undersampled_x = pd.get_dummies(train_undersampled_x)"
   ]
  },
  {
   "cell_type": "code",
   "execution_count": 116,
   "id": "d926a416",
   "metadata": {},
   "outputs": [],
   "source": [
    "parameters = {'n_estimator':[10,100,200], 'max_depth': [10, 50, 100],'min_samples_split': [2, 5, 10]}"
   ]
  },
  {
   "cell_type": "code",
   "execution_count": 117,
   "id": "476f6844",
   "metadata": {},
   "outputs": [
    {
     "name": "stdout",
     "output_type": "stream",
     "text": [
      "0.49026703926144766\n"
     ]
    }
   ],
   "source": [
    "random_forest = RandomForestClassifier(n_estimators = 200)\n",
    "scores = cross_val_score(random_forest, train_x, train_y, cv=5,scoring='f1')\n",
    "print(scores.mean())"
   ]
  },
  {
   "cell_type": "code",
   "execution_count": 118,
   "id": "d53f704b",
   "metadata": {},
   "outputs": [
    {
     "name": "stdout",
     "output_type": "stream",
     "text": [
      "0.7332912873971726\n"
     ]
    }
   ],
   "source": [
    "random_forest = RandomForestClassifier(n_estimators = 200)\n",
    "scores = cross_val_score(random_forest, train_undersampled_x, train_undersampled_y, cv=5,scoring='f1')\n",
    "print(scores.mean())"
   ]
  },
  {
   "cell_type": "markdown",
   "id": "cf899985",
   "metadata": {},
   "source": [
    "Again, our score is better with undersampling. We find the best hyperparameters"
   ]
  },
  {
   "cell_type": "code",
   "execution_count": 119,
   "id": "d2d8211e",
   "metadata": {},
   "outputs": [
    {
     "data": {
      "text/plain": [
       "0.7450455210618048"
      ]
     },
     "execution_count": 119,
     "metadata": {},
     "output_type": "execute_result"
    }
   ],
   "source": [
    "parameters = {'n_estimators':[10,100,200], 'max_depth': [50, 80, 100],'min_samples_split': [2, 5, 10]}\n",
    "random_forest = RandomForestClassifier()\n",
    "clf = GridSearchCV(random_forest,parameters, scoring='f1')\n",
    "clf.fit(train_undersampled_x,train_undersampled_y)\n",
    "max(clf.cv_results_[\"mean_test_score\"])"
   ]
  },
  {
   "cell_type": "markdown",
   "id": "e3cd2fe2",
   "metadata": {},
   "source": [
    "Our best performance is still with SVC"
   ]
  },
  {
   "cell_type": "markdown",
   "id": "ac582968",
   "metadata": {},
   "source": [
    "# Publish our results"
   ]
  },
  {
   "cell_type": "code",
   "execution_count": 120,
   "id": "95a98417",
   "metadata": {},
   "outputs": [
    {
     "data": {
      "text/plain": [
       "SVC(C=10)"
      ]
     },
     "execution_count": 120,
     "metadata": {},
     "output_type": "execute_result"
    }
   ],
   "source": [
    "train_x=normalizer.transform(train_x) #we re-normalize our data\n",
    "svc = SVC(C=10,kernel = 'rbf')\n",
    "svc.fit(train_x,train_y)"
   ]
  },
  {
   "cell_type": "code",
   "execution_count": 121,
   "id": "2139887e",
   "metadata": {},
   "outputs": [],
   "source": [
    "has_claim = svc.predict(test_x)"
   ]
  },
  {
   "cell_type": "code",
   "execution_count": 122,
   "id": "9e8dad98",
   "metadata": {},
   "outputs": [],
   "source": [
    "test_df = pd.read_csv(\"test_auto.csv\") #just to get the index"
   ]
  },
  {
   "cell_type": "code",
   "execution_count": 123,
   "id": "4634d4c9",
   "metadata": {},
   "outputs": [],
   "source": [
    "submission = pd.DataFrame({\n",
    "        \"INDEX\": test_df[\"INDEX\"],\n",
    "        \"p_target\": has_claim\n",
    "    })"
   ]
  },
  {
   "cell_type": "code",
   "execution_count": 124,
   "id": "02ac9794",
   "metadata": {},
   "outputs": [],
   "source": [
    "submission.to_csv('submission.csv', index=False)"
   ]
  }
 ],
 "metadata": {
  "kernelspec": {
   "display_name": "Python 3 (ipykernel)",
   "language": "python",
   "name": "python3"
  },
  "language_info": {
   "codemirror_mode": {
    "name": "ipython",
    "version": 3
   },
   "file_extension": ".py",
   "mimetype": "text/x-python",
   "name": "python",
   "nbconvert_exporter": "python",
   "pygments_lexer": "ipython3",
   "version": "3.10.0"
  }
 },
 "nbformat": 4,
 "nbformat_minor": 5
}
